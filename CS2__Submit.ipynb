{
  "nbformat": 4,
  "nbformat_minor": 0,
  "metadata": {
    "colab": {
      "name": "CS2._Submit.ipynb",
      "provenance": [],
      "collapsed_sections": [],
      "authorship_tag": "ABX9TyMgRMaF2mLoMGoD8qRs+LjM",
      "include_colab_link": true
    },
    "kernelspec": {
      "name": "python3",
      "display_name": "Python 3"
    },
    "language_info": {
      "name": "python"
    },
    "accelerator": "TPU"
  },
  "cells": [
    {
      "cell_type": "markdown",
      "metadata": {
        "id": "view-in-github",
        "colab_type": "text"
      },
      "source": [
        "<a href=\"https://colab.research.google.com/github/yoonsongg/CS2/blob/main/CS2__Submit.ipynb\" target=\"_parent\"><img src=\"https://colab.research.google.com/assets/colab-badge.svg\" alt=\"Open In Colab\"/></a>"
      ]
    },
    {
      "cell_type": "markdown",
      "source": [
        "# google drive 마운트, 데이터 불러오기"
      ],
      "metadata": {
        "id": "nXeZUr0j0DNs"
      }
    },
    {
      "cell_type": "code",
      "execution_count": null,
      "metadata": {
        "colab": {
          "base_uri": "https://localhost:8080/"
        },
        "id": "yZOlDa8yz3fk",
        "outputId": "01d5aa3b-a99f-4fc8-d46c-a4ee05d2c1c7"
      },
      "outputs": [
        {
          "output_type": "stream",
          "name": "stdout",
          "text": [
            "Mounted at /content/drive\n"
          ]
        }
      ],
      "source": [
        "from google.colab import drive\n",
        "drive.mount('/content/drive')"
      ]
    },
    {
      "cell_type": "code",
      "source": [
        "#import packages, libraries\n",
        "import pandas as pd"
      ],
      "metadata": {
        "id": "h9331p-20R-p"
      },
      "execution_count": null,
      "outputs": []
    },
    {
      "cell_type": "code",
      "source": [
        "correct_train_url = '/content/drive/MyDrive/AI_Bootcamp/CP1/grade7_correct_train.csv'\n",
        "itemIRT_train_url = '/content/drive/MyDrive/AI_Bootcamp/CP1/grade7_itemIRT_train.csv'\n",
        "learnerIRT_train_url = '/content/drive/MyDrive/AI_Bootcamp/CP1/grade7_learnerIRT_train.csv'\n",
        "\n",
        "correct_valid_url = '/content/drive/MyDrive/AI_Bootcamp/CP1/grade7_correct_valid.csv'\n",
        "itemIRT_valid_url = '/content/drive/MyDrive/AI_Bootcamp/CP1/grade7_itemIRT_valid.csv'\n",
        "learnerIRT_valid_url = '/content/drive/MyDrive/AI_Bootcamp/CP1/grade7_learnerIRT_valid.csv'\n",
        "\n",
        "\n",
        "correct_train = pd.read_csv(correct_train_url)\n",
        "itemIRT_train = pd.read_csv(itemIRT_train_url)\n",
        "learnerIRT_train = pd.read_csv(learnerIRT_train_url)\n",
        "\n",
        "\n",
        "correct_valid = pd.read_csv(correct_valid_url)\n",
        "itemIRT_valid = pd.read_csv(itemIRT_valid_url)\n",
        "learnerIRT_valid = pd.read_csv(learnerIRT_valid_url)\n"
      ],
      "metadata": {
        "id": "dpdTaGrg0N-c"
      },
      "execution_count": null,
      "outputs": []
    },
    {
      "cell_type": "code",
      "source": [
        "#필요없는 열 삭제\n",
        "itemIRT_train = itemIRT_train.drop(['Timestamp'], axis = 1)\n",
        "learnerIRT_train = learnerIRT_train.drop(['Timestamp'], axis = 1)\n",
        "\n",
        "itemIRT_valid = itemIRT_valid.drop(['Timestamp'], axis = 1)\n",
        "learnerIRT_valid = learnerIRT_valid.drop(['Timestamp'], axis = 1)"
      ],
      "metadata": {
        "id": "sKH7BSnF3R-b"
      },
      "execution_count": null,
      "outputs": []
    },
    {
      "cell_type": "code",
      "source": [
        "#train, valid 데이터 셋 만들기 \n",
        "#train\n",
        "second_df = pd.merge(left = correct_train, right = itemIRT_train, how = 'left', on = ['testID', 'assessmentItemID'])\n",
        "train = pd.merge(left = second_df, right = learnerIRT_train, how = 'left', on = ['testID', 'learnerID'])\n",
        "#valid\n",
        "se_df = pd.merge(left = correct_valid, right = itemIRT_valid, how = 'left', on = ['testID', 'assessmentItemID'])\n",
        "valid = pd.merge(left = se_df, right = learnerIRT_valid, how = 'left', on = ['testID', 'learnerID'])"
      ],
      "metadata": {
        "id": "q1oW0w6Z0Xk3"
      },
      "execution_count": null,
      "outputs": []
    },
    {
      "cell_type": "code",
      "source": [
        "#여분 만들어두기\n",
        "\n",
        "train_df = train.copy()\n",
        "valid_df = valid.copy()"
      ],
      "metadata": {
        "id": "p3MAXYlV0fgF"
      },
      "execution_count": null,
      "outputs": []
    },
    {
      "cell_type": "markdown",
      "source": [
        "# Feature Engineering\n"
      ],
      "metadata": {
        "id": "2Gxmw35N1euq"
      }
    },
    {
      "cell_type": "code",
      "source": [
        "train.head()"
      ],
      "metadata": {
        "colab": {
          "base_uri": "https://localhost:8080/",
          "height": 356
        },
        "id": "5k5D5c3-1de4",
        "outputId": "bfe2c4c2-a43e-4152-ecea-b8cb3117aff7"
      },
      "execution_count": null,
      "outputs": [
        {
          "output_type": "execute_result",
          "data": {
            "text/html": [
              "\n",
              "  <div id=\"df-36b12be9-bdc6-4dce-a028-79dab38f12fe\">\n",
              "    <div class=\"colab-df-container\">\n",
              "      <div>\n",
              "<style scoped>\n",
              "    .dataframe tbody tr th:only-of-type {\n",
              "        vertical-align: middle;\n",
              "    }\n",
              "\n",
              "    .dataframe tbody tr th {\n",
              "        vertical-align: top;\n",
              "    }\n",
              "\n",
              "    .dataframe thead th {\n",
              "        text-align: right;\n",
              "    }\n",
              "</style>\n",
              "<table border=\"1\" class=\"dataframe\">\n",
              "  <thead>\n",
              "    <tr style=\"text-align: right;\">\n",
              "      <th></th>\n",
              "      <th>learnerID</th>\n",
              "      <th>testID</th>\n",
              "      <th>assessmentItemID</th>\n",
              "      <th>answerCode</th>\n",
              "      <th>Timestamp</th>\n",
              "      <th>difficultyLevel</th>\n",
              "      <th>discriminationLevel</th>\n",
              "      <th>guessLevel</th>\n",
              "      <th>KnowledgeTag</th>\n",
              "      <th>learnerProfile</th>\n",
              "      <th>theta</th>\n",
              "      <th>realScore</th>\n",
              "    </tr>\n",
              "  </thead>\n",
              "  <tbody>\n",
              "    <tr>\n",
              "      <th>0</th>\n",
              "      <td>A070001903</td>\n",
              "      <td>A070000094</td>\n",
              "      <td>A070094008</td>\n",
              "      <td>1</td>\n",
              "      <td>2020-08-22 08:19:15</td>\n",
              "      <td>-0.629810</td>\n",
              "      <td>2.806422</td>\n",
              "      <td>0.046112</td>\n",
              "      <td>NaN</td>\n",
              "      <td>F;S01;7</td>\n",
              "      <td>-0.173620</td>\n",
              "      <td>0.635192</td>\n",
              "    </tr>\n",
              "    <tr>\n",
              "      <th>1</th>\n",
              "      <td>A070001440</td>\n",
              "      <td>A070000094</td>\n",
              "      <td>A070094006</td>\n",
              "      <td>1</td>\n",
              "      <td>2020-09-14 03:04:07</td>\n",
              "      <td>0.001141</td>\n",
              "      <td>1.060096</td>\n",
              "      <td>0.046260</td>\n",
              "      <td>NaN</td>\n",
              "      <td>F;S01;7</td>\n",
              "      <td>1.293742</td>\n",
              "      <td>0.964566</td>\n",
              "    </tr>\n",
              "    <tr>\n",
              "      <th>2</th>\n",
              "      <td>A070001619</td>\n",
              "      <td>A070000094</td>\n",
              "      <td>A070094007</td>\n",
              "      <td>0</td>\n",
              "      <td>2020-09-16 21:30:37</td>\n",
              "      <td>1.139958</td>\n",
              "      <td>13.727655</td>\n",
              "      <td>0.299840</td>\n",
              "      <td>NaN</td>\n",
              "      <td>M;S01;7</td>\n",
              "      <td>0.864086</td>\n",
              "      <td>0.847392</td>\n",
              "    </tr>\n",
              "    <tr>\n",
              "      <th>3</th>\n",
              "      <td>A070001032</td>\n",
              "      <td>A070000094</td>\n",
              "      <td>A070094004</td>\n",
              "      <td>0</td>\n",
              "      <td>2020-12-16 04:31:25</td>\n",
              "      <td>-0.869407</td>\n",
              "      <td>3.337444</td>\n",
              "      <td>0.013006</td>\n",
              "      <td>NaN</td>\n",
              "      <td>F;S01;7</td>\n",
              "      <td>-0.791087</td>\n",
              "      <td>0.347025</td>\n",
              "    </tr>\n",
              "    <tr>\n",
              "      <th>4</th>\n",
              "      <td>A070001138</td>\n",
              "      <td>A070000094</td>\n",
              "      <td>A070094001</td>\n",
              "      <td>1</td>\n",
              "      <td>2020-08-08 19:34:14</td>\n",
              "      <td>0.785138</td>\n",
              "      <td>8.954192</td>\n",
              "      <td>0.295473</td>\n",
              "      <td>NaN</td>\n",
              "      <td>F;S01;7</td>\n",
              "      <td>1.233376</td>\n",
              "      <td>0.952915</td>\n",
              "    </tr>\n",
              "  </tbody>\n",
              "</table>\n",
              "</div>\n",
              "      <button class=\"colab-df-convert\" onclick=\"convertToInteractive('df-36b12be9-bdc6-4dce-a028-79dab38f12fe')\"\n",
              "              title=\"Convert this dataframe to an interactive table.\"\n",
              "              style=\"display:none;\">\n",
              "        \n",
              "  <svg xmlns=\"http://www.w3.org/2000/svg\" height=\"24px\"viewBox=\"0 0 24 24\"\n",
              "       width=\"24px\">\n",
              "    <path d=\"M0 0h24v24H0V0z\" fill=\"none\"/>\n",
              "    <path d=\"M18.56 5.44l.94 2.06.94-2.06 2.06-.94-2.06-.94-.94-2.06-.94 2.06-2.06.94zm-11 1L8.5 8.5l.94-2.06 2.06-.94-2.06-.94L8.5 2.5l-.94 2.06-2.06.94zm10 10l.94 2.06.94-2.06 2.06-.94-2.06-.94-.94-2.06-.94 2.06-2.06.94z\"/><path d=\"M17.41 7.96l-1.37-1.37c-.4-.4-.92-.59-1.43-.59-.52 0-1.04.2-1.43.59L10.3 9.45l-7.72 7.72c-.78.78-.78 2.05 0 2.83L4 21.41c.39.39.9.59 1.41.59.51 0 1.02-.2 1.41-.59l7.78-7.78 2.81-2.81c.8-.78.8-2.07 0-2.86zM5.41 20L4 18.59l7.72-7.72 1.47 1.35L5.41 20z\"/>\n",
              "  </svg>\n",
              "      </button>\n",
              "      \n",
              "  <style>\n",
              "    .colab-df-container {\n",
              "      display:flex;\n",
              "      flex-wrap:wrap;\n",
              "      gap: 12px;\n",
              "    }\n",
              "\n",
              "    .colab-df-convert {\n",
              "      background-color: #E8F0FE;\n",
              "      border: none;\n",
              "      border-radius: 50%;\n",
              "      cursor: pointer;\n",
              "      display: none;\n",
              "      fill: #1967D2;\n",
              "      height: 32px;\n",
              "      padding: 0 0 0 0;\n",
              "      width: 32px;\n",
              "    }\n",
              "\n",
              "    .colab-df-convert:hover {\n",
              "      background-color: #E2EBFA;\n",
              "      box-shadow: 0px 1px 2px rgba(60, 64, 67, 0.3), 0px 1px 3px 1px rgba(60, 64, 67, 0.15);\n",
              "      fill: #174EA6;\n",
              "    }\n",
              "\n",
              "    [theme=dark] .colab-df-convert {\n",
              "      background-color: #3B4455;\n",
              "      fill: #D2E3FC;\n",
              "    }\n",
              "\n",
              "    [theme=dark] .colab-df-convert:hover {\n",
              "      background-color: #434B5C;\n",
              "      box-shadow: 0px 1px 3px 1px rgba(0, 0, 0, 0.15);\n",
              "      filter: drop-shadow(0px 1px 2px rgba(0, 0, 0, 0.3));\n",
              "      fill: #FFFFFF;\n",
              "    }\n",
              "  </style>\n",
              "\n",
              "      <script>\n",
              "        const buttonEl =\n",
              "          document.querySelector('#df-36b12be9-bdc6-4dce-a028-79dab38f12fe button.colab-df-convert');\n",
              "        buttonEl.style.display =\n",
              "          google.colab.kernel.accessAllowed ? 'block' : 'none';\n",
              "\n",
              "        async function convertToInteractive(key) {\n",
              "          const element = document.querySelector('#df-36b12be9-bdc6-4dce-a028-79dab38f12fe');\n",
              "          const dataTable =\n",
              "            await google.colab.kernel.invokeFunction('convertToInteractive',\n",
              "                                                     [key], {});\n",
              "          if (!dataTable) return;\n",
              "\n",
              "          const docLinkHtml = 'Like what you see? Visit the ' +\n",
              "            '<a target=\"_blank\" href=https://colab.research.google.com/notebooks/data_table.ipynb>data table notebook</a>'\n",
              "            + ' to learn more about interactive tables.';\n",
              "          element.innerHTML = '';\n",
              "          dataTable['output_type'] = 'display_data';\n",
              "          await google.colab.output.renderOutput(dataTable, element);\n",
              "          const docLink = document.createElement('div');\n",
              "          docLink.innerHTML = docLinkHtml;\n",
              "          element.appendChild(docLink);\n",
              "        }\n",
              "      </script>\n",
              "    </div>\n",
              "  </div>\n",
              "  "
            ],
            "text/plain": [
              "    learnerID      testID assessmentItemID  ...  learnerProfile     theta  realScore\n",
              "0  A070001903  A070000094       A070094008  ...         F;S01;7 -0.173620   0.635192\n",
              "1  A070001440  A070000094       A070094006  ...         F;S01;7  1.293742   0.964566\n",
              "2  A070001619  A070000094       A070094007  ...         M;S01;7  0.864086   0.847392\n",
              "3  A070001032  A070000094       A070094004  ...         F;S01;7 -0.791087   0.347025\n",
              "4  A070001138  A070000094       A070094001  ...         F;S01;7  1.233376   0.952915\n",
              "\n",
              "[5 rows x 12 columns]"
            ]
          },
          "metadata": {},
          "execution_count": 42
        }
      ]
    },
    {
      "cell_type": "code",
      "source": [
        "#각문항별 정답률\n",
        "def assessment_ratio(df):\n",
        "    assessmentItemID_groupby = df.groupby('assessmentItemID').agg({'answerCode' : 'mean'})\n",
        "    df[\"question_accuracy\"] = assessmentItemID_groupby['answerCode'][df['assessmentItemID']].values\n",
        "    return df\n",
        "\n",
        "\n",
        "train = assessment_ratio(train)\n",
        "valid = assessment_ratio(valid)\n",
        "\n"
      ],
      "metadata": {
        "id": "-65mtKGf1k0a"
      },
      "execution_count": null,
      "outputs": []
    },
    {
      "cell_type": "code",
      "source": [
        "train['Timestamp'].dtype"
      ],
      "metadata": {
        "colab": {
          "base_uri": "https://localhost:8080/"
        },
        "id": "w4Ti0GJK6sVH",
        "outputId": "48c710db-6cf8-4a3a-f969-be45e72d29d3"
      },
      "execution_count": null,
      "outputs": [
        {
          "output_type": "execute_result",
          "data": {
            "text/plain": [
              "dtype('O')"
            ]
          },
          "metadata": {},
          "execution_count": 10
        }
      ]
    },
    {
      "cell_type": "code",
      "source": [
        "#learnerID, test 보는데 걸린 시간\n",
        "from datetime import datetime\n",
        "\n",
        "def convert_time(s):\n",
        "    timestamp = datetime.strptime(s, '%Y-%m-%d %H:%M:%S')\n",
        "    return timestamp\n"
      ],
      "metadata": {
        "id": "Up3gAYuL9D7T"
      },
      "execution_count": null,
      "outputs": []
    },
    {
      "cell_type": "code",
      "source": [
        "train['Timestamp'] = train['Timestamp'].apply(convert_time)\n",
        "valid['Timestamp'] = valid['Timestamp'].apply(convert_time)"
      ],
      "metadata": {
        "id": "uQJFjZW09IP3"
      },
      "execution_count": null,
      "outputs": []
    },
    {
      "cell_type": "code",
      "source": [
        "# def elapsed_time2(df):\n",
        "#     df_grouped = df.groupby(['learnerID', 'testID'])\n",
        "#     df_result = pd.DataFrame(df_grouped['Timestamp'].max() - df_grouped['Timestamp'].min())\n",
        "#     df_result['Timestamp_elapsed'] = df_result['Timestamp'] \n",
        "#     df = pd.merge(left = df, right = df_result, how = 'left', on = ['learnerID', 'testID'])\n",
        "#     return df\n",
        "\n",
        "# train_df['Timestamp'] = train_df['Timestamp'].apply(convert_time)   \n",
        "# train_df2 = elapsed_time2(train_df)\n",
        "# train_df2['Timestamp_elapsed'].describe()"
      ],
      "metadata": {
        "id": "VAE_mnZSuMoK"
      },
      "execution_count": null,
      "outputs": []
    },
    {
      "cell_type": "code",
      "source": [
        "import numpy as np\n",
        "\n",
        "def elapsed_time(df):\n",
        "    df_grouped = df.groupby(['learnerID', 'testID'])\n",
        "    df_result = pd.DataFrame(df_grouped['Timestamp'].max() - df_grouped['Timestamp'].min())\n",
        "    df_result['Timestamp_elapsed'] = df_result['Timestamp'] / np.timedelta64(1, 's')\n",
        "    df = pd.merge(left = df, right = df_result['Timestamp_elapsed'], how = 'left', on = ['learnerID', 'testID'])\n",
        "    return df\n",
        "    \n",
        "train = elapsed_time(train)\n",
        "valid = elapsed_time(valid)"
      ],
      "metadata": {
        "id": "4HUJ2oFk9WOy"
      },
      "execution_count": null,
      "outputs": []
    },
    {
      "cell_type": "code",
      "source": [
        "#train.loc[df3['learnerID'] == 'A070001903']\n",
        "train.drop(['answerCode', 'KnowledgeTag','learnerID', 'testID', 'assessmentItemID', 'learnerProfile', \n",
        "                                               'Timestamp'], axis = 1)"
      ],
      "metadata": {
        "colab": {
          "base_uri": "https://localhost:8080/",
          "height": 423
        },
        "id": "6e76Rr89rrmH",
        "outputId": "eacb1c6c-03f1-4b89-f33b-bfcc0dfd60de"
      },
      "execution_count": null,
      "outputs": [
        {
          "output_type": "execute_result",
          "data": {
            "text/html": [
              "\n",
              "  <div id=\"df-e4f75951-43af-4cbd-b3d7-fc4cc02b4fa1\">\n",
              "    <div class=\"colab-df-container\">\n",
              "      <div>\n",
              "<style scoped>\n",
              "    .dataframe tbody tr th:only-of-type {\n",
              "        vertical-align: middle;\n",
              "    }\n",
              "\n",
              "    .dataframe tbody tr th {\n",
              "        vertical-align: top;\n",
              "    }\n",
              "\n",
              "    .dataframe thead th {\n",
              "        text-align: right;\n",
              "    }\n",
              "</style>\n",
              "<table border=\"1\" class=\"dataframe\">\n",
              "  <thead>\n",
              "    <tr style=\"text-align: right;\">\n",
              "      <th></th>\n",
              "      <th>difficultyLevel</th>\n",
              "      <th>discriminationLevel</th>\n",
              "      <th>guessLevel</th>\n",
              "      <th>theta</th>\n",
              "      <th>realScore</th>\n",
              "      <th>question_accuracy</th>\n",
              "      <th>Timestamp_elapsed</th>\n",
              "    </tr>\n",
              "  </thead>\n",
              "  <tbody>\n",
              "    <tr>\n",
              "      <th>0</th>\n",
              "      <td>-0.629810</td>\n",
              "      <td>2.806422</td>\n",
              "      <td>0.046112</td>\n",
              "      <td>-0.173620</td>\n",
              "      <td>0.635192</td>\n",
              "      <td>0.736842</td>\n",
              "      <td>1551.0</td>\n",
              "    </tr>\n",
              "    <tr>\n",
              "      <th>1</th>\n",
              "      <td>0.001141</td>\n",
              "      <td>1.060096</td>\n",
              "      <td>0.046260</td>\n",
              "      <td>1.293742</td>\n",
              "      <td>0.964566</td>\n",
              "      <td>0.555556</td>\n",
              "      <td>470.0</td>\n",
              "    </tr>\n",
              "    <tr>\n",
              "      <th>2</th>\n",
              "      <td>1.139958</td>\n",
              "      <td>13.727655</td>\n",
              "      <td>0.299840</td>\n",
              "      <td>0.864086</td>\n",
              "      <td>0.847392</td>\n",
              "      <td>0.444444</td>\n",
              "      <td>497.0</td>\n",
              "    </tr>\n",
              "    <tr>\n",
              "      <th>3</th>\n",
              "      <td>-0.869407</td>\n",
              "      <td>3.337444</td>\n",
              "      <td>0.013006</td>\n",
              "      <td>-0.791087</td>\n",
              "      <td>0.347025</td>\n",
              "      <td>0.830409</td>\n",
              "      <td>140.0</td>\n",
              "    </tr>\n",
              "    <tr>\n",
              "      <th>4</th>\n",
              "      <td>0.785138</td>\n",
              "      <td>8.954192</td>\n",
              "      <td>0.295473</td>\n",
              "      <td>1.233376</td>\n",
              "      <td>0.952915</td>\n",
              "      <td>0.467836</td>\n",
              "      <td>978.0</td>\n",
              "    </tr>\n",
              "    <tr>\n",
              "      <th>...</th>\n",
              "      <td>...</td>\n",
              "      <td>...</td>\n",
              "      <td>...</td>\n",
              "      <td>...</td>\n",
              "      <td>...</td>\n",
              "      <td>...</td>\n",
              "      <td>...</td>\n",
              "    </tr>\n",
              "    <tr>\n",
              "      <th>210545</th>\n",
              "      <td>-0.912698</td>\n",
              "      <td>2.738417</td>\n",
              "      <td>0.000716</td>\n",
              "      <td>-0.375466</td>\n",
              "      <td>0.591677</td>\n",
              "      <td>0.757962</td>\n",
              "      <td>92.0</td>\n",
              "    </tr>\n",
              "    <tr>\n",
              "      <th>210546</th>\n",
              "      <td>0.059957</td>\n",
              "      <td>1.953217</td>\n",
              "      <td>0.058159</td>\n",
              "      <td>-0.791601</td>\n",
              "      <td>0.429591</td>\n",
              "      <td>0.515924</td>\n",
              "      <td>664.0</td>\n",
              "    </tr>\n",
              "    <tr>\n",
              "      <th>210547</th>\n",
              "      <td>-0.711114</td>\n",
              "      <td>2.566996</td>\n",
              "      <td>0.128130</td>\n",
              "      <td>0.601050</td>\n",
              "      <td>0.852480</td>\n",
              "      <td>0.751592</td>\n",
              "      <td>178.0</td>\n",
              "    </tr>\n",
              "    <tr>\n",
              "      <th>210548</th>\n",
              "      <td>-1.220074</td>\n",
              "      <td>1.694204</td>\n",
              "      <td>0.001264</td>\n",
              "      <td>-0.150753</td>\n",
              "      <td>0.672055</td>\n",
              "      <td>0.796178</td>\n",
              "      <td>347.0</td>\n",
              "    </tr>\n",
              "    <tr>\n",
              "      <th>210549</th>\n",
              "      <td>0.059957</td>\n",
              "      <td>1.953217</td>\n",
              "      <td>0.058159</td>\n",
              "      <td>0.588295</td>\n",
              "      <td>0.850306</td>\n",
              "      <td>0.515924</td>\n",
              "      <td>139.0</td>\n",
              "    </tr>\n",
              "  </tbody>\n",
              "</table>\n",
              "<p>210550 rows × 7 columns</p>\n",
              "</div>\n",
              "      <button class=\"colab-df-convert\" onclick=\"convertToInteractive('df-e4f75951-43af-4cbd-b3d7-fc4cc02b4fa1')\"\n",
              "              title=\"Convert this dataframe to an interactive table.\"\n",
              "              style=\"display:none;\">\n",
              "        \n",
              "  <svg xmlns=\"http://www.w3.org/2000/svg\" height=\"24px\"viewBox=\"0 0 24 24\"\n",
              "       width=\"24px\">\n",
              "    <path d=\"M0 0h24v24H0V0z\" fill=\"none\"/>\n",
              "    <path d=\"M18.56 5.44l.94 2.06.94-2.06 2.06-.94-2.06-.94-.94-2.06-.94 2.06-2.06.94zm-11 1L8.5 8.5l.94-2.06 2.06-.94-2.06-.94L8.5 2.5l-.94 2.06-2.06.94zm10 10l.94 2.06.94-2.06 2.06-.94-2.06-.94-.94-2.06-.94 2.06-2.06.94z\"/><path d=\"M17.41 7.96l-1.37-1.37c-.4-.4-.92-.59-1.43-.59-.52 0-1.04.2-1.43.59L10.3 9.45l-7.72 7.72c-.78.78-.78 2.05 0 2.83L4 21.41c.39.39.9.59 1.41.59.51 0 1.02-.2 1.41-.59l7.78-7.78 2.81-2.81c.8-.78.8-2.07 0-2.86zM5.41 20L4 18.59l7.72-7.72 1.47 1.35L5.41 20z\"/>\n",
              "  </svg>\n",
              "      </button>\n",
              "      \n",
              "  <style>\n",
              "    .colab-df-container {\n",
              "      display:flex;\n",
              "      flex-wrap:wrap;\n",
              "      gap: 12px;\n",
              "    }\n",
              "\n",
              "    .colab-df-convert {\n",
              "      background-color: #E8F0FE;\n",
              "      border: none;\n",
              "      border-radius: 50%;\n",
              "      cursor: pointer;\n",
              "      display: none;\n",
              "      fill: #1967D2;\n",
              "      height: 32px;\n",
              "      padding: 0 0 0 0;\n",
              "      width: 32px;\n",
              "    }\n",
              "\n",
              "    .colab-df-convert:hover {\n",
              "      background-color: #E2EBFA;\n",
              "      box-shadow: 0px 1px 2px rgba(60, 64, 67, 0.3), 0px 1px 3px 1px rgba(60, 64, 67, 0.15);\n",
              "      fill: #174EA6;\n",
              "    }\n",
              "\n",
              "    [theme=dark] .colab-df-convert {\n",
              "      background-color: #3B4455;\n",
              "      fill: #D2E3FC;\n",
              "    }\n",
              "\n",
              "    [theme=dark] .colab-df-convert:hover {\n",
              "      background-color: #434B5C;\n",
              "      box-shadow: 0px 1px 3px 1px rgba(0, 0, 0, 0.15);\n",
              "      filter: drop-shadow(0px 1px 2px rgba(0, 0, 0, 0.3));\n",
              "      fill: #FFFFFF;\n",
              "    }\n",
              "  </style>\n",
              "\n",
              "      <script>\n",
              "        const buttonEl =\n",
              "          document.querySelector('#df-e4f75951-43af-4cbd-b3d7-fc4cc02b4fa1 button.colab-df-convert');\n",
              "        buttonEl.style.display =\n",
              "          google.colab.kernel.accessAllowed ? 'block' : 'none';\n",
              "\n",
              "        async function convertToInteractive(key) {\n",
              "          const element = document.querySelector('#df-e4f75951-43af-4cbd-b3d7-fc4cc02b4fa1');\n",
              "          const dataTable =\n",
              "            await google.colab.kernel.invokeFunction('convertToInteractive',\n",
              "                                                     [key], {});\n",
              "          if (!dataTable) return;\n",
              "\n",
              "          const docLinkHtml = 'Like what you see? Visit the ' +\n",
              "            '<a target=\"_blank\" href=https://colab.research.google.com/notebooks/data_table.ipynb>data table notebook</a>'\n",
              "            + ' to learn more about interactive tables.';\n",
              "          element.innerHTML = '';\n",
              "          dataTable['output_type'] = 'display_data';\n",
              "          await google.colab.output.renderOutput(dataTable, element);\n",
              "          const docLink = document.createElement('div');\n",
              "          docLink.innerHTML = docLinkHtml;\n",
              "          element.appendChild(docLink);\n",
              "        }\n",
              "      </script>\n",
              "    </div>\n",
              "  </div>\n",
              "  "
            ],
            "text/plain": [
              "        difficultyLevel  ...  Timestamp_elapsed\n",
              "0             -0.629810  ...             1551.0\n",
              "1              0.001141  ...              470.0\n",
              "2              1.139958  ...              497.0\n",
              "3             -0.869407  ...              140.0\n",
              "4              0.785138  ...              978.0\n",
              "...                 ...  ...                ...\n",
              "210545        -0.912698  ...               92.0\n",
              "210546         0.059957  ...              664.0\n",
              "210547        -0.711114  ...              178.0\n",
              "210548        -1.220074  ...              347.0\n",
              "210549         0.059957  ...              139.0\n",
              "\n",
              "[210550 rows x 7 columns]"
            ]
          },
          "metadata": {},
          "execution_count": 47
        }
      ]
    },
    {
      "cell_type": "code",
      "source": [
        ""
      ],
      "metadata": {
        "id": "Z4evV4T6tFGk"
      },
      "execution_count": null,
      "outputs": []
    },
    {
      "cell_type": "code",
      "source": [
        "#시험보는데 걸린시간 아웃라이어 제거\n",
        "\n",
        "def outlier_IQR(df):\n",
        "    q1 = df['Timestamp_elapsed'].quantile(.25)\n",
        "    q3 = df['Timestamp_elapsed'].quantile(.75)\n",
        "    IQR = q3 - q1\n",
        "    lower = q1 - 1.5 * IQR\n",
        "    upper = q3 + 1.5 * IQR\n",
        "    condition = df[(df['Timestamp_elapsed'] > upper) | (df['Timestamp_elapsed'] < lower)].index\n",
        "    df = df.drop(condition).reset_index()\n",
        "    return df\n",
        "\n",
        "train = outlier_IQR(train)\n",
        "valid = outlier_IQR(valid)\n",
        "print(train.shape)"
      ],
      "metadata": {
        "colab": {
          "base_uri": "https://localhost:8080/"
        },
        "id": "H98E4vVEMF8c",
        "outputId": "b3f5c463-0c93-4dfd-dcc1-38caafc07a73"
      },
      "execution_count": null,
      "outputs": [
        {
          "output_type": "stream",
          "name": "stdout",
          "text": [
            "(190646, 15)\n"
          ]
        }
      ]
    },
    {
      "cell_type": "code",
      "source": [
        "train['Timestamp_elapsed'].describe()\n",
        "print(datetime.timedelta(seconds = 1483))"
      ],
      "metadata": {
        "colab": {
          "base_uri": "https://localhost:8080/"
        },
        "id": "HGOJzCICvrvC",
        "outputId": "0acb0f0b-6f93-4df0-8248-10f259d46d30"
      },
      "execution_count": null,
      "outputs": [
        {
          "output_type": "stream",
          "name": "stdout",
          "text": [
            "0:24:43\n"
          ]
        }
      ]
    },
    {
      "cell_type": "code",
      "source": [
        "train.head()"
      ],
      "metadata": {
        "colab": {
          "base_uri": "https://localhost:8080/",
          "height": 356
        },
        "id": "vEJBBmiBz6wl",
        "outputId": "a5980701-f4ac-4fdb-ab5f-efb15cd62208"
      },
      "execution_count": null,
      "outputs": [
        {
          "output_type": "execute_result",
          "data": {
            "text/html": [
              "\n",
              "  <div id=\"df-a4f3e39b-4734-4d84-8645-b2bd79067494\">\n",
              "    <div class=\"colab-df-container\">\n",
              "      <div>\n",
              "<style scoped>\n",
              "    .dataframe tbody tr th:only-of-type {\n",
              "        vertical-align: middle;\n",
              "    }\n",
              "\n",
              "    .dataframe tbody tr th {\n",
              "        vertical-align: top;\n",
              "    }\n",
              "\n",
              "    .dataframe thead th {\n",
              "        text-align: right;\n",
              "    }\n",
              "</style>\n",
              "<table border=\"1\" class=\"dataframe\">\n",
              "  <thead>\n",
              "    <tr style=\"text-align: right;\">\n",
              "      <th></th>\n",
              "      <th>index</th>\n",
              "      <th>learnerID</th>\n",
              "      <th>testID</th>\n",
              "      <th>assessmentItemID</th>\n",
              "      <th>answerCode</th>\n",
              "      <th>Timestamp</th>\n",
              "      <th>difficultyLevel</th>\n",
              "      <th>discriminationLevel</th>\n",
              "      <th>guessLevel</th>\n",
              "      <th>KnowledgeTag</th>\n",
              "      <th>learnerProfile</th>\n",
              "      <th>theta</th>\n",
              "      <th>realScore</th>\n",
              "      <th>question_accuracy</th>\n",
              "      <th>Timestamp_elapsed</th>\n",
              "    </tr>\n",
              "  </thead>\n",
              "  <tbody>\n",
              "    <tr>\n",
              "      <th>0</th>\n",
              "      <td>1</td>\n",
              "      <td>A070001440</td>\n",
              "      <td>A070000094</td>\n",
              "      <td>A070094006</td>\n",
              "      <td>1</td>\n",
              "      <td>2020-09-14 03:04:07</td>\n",
              "      <td>0.001141</td>\n",
              "      <td>1.060096</td>\n",
              "      <td>0.046260</td>\n",
              "      <td>NaN</td>\n",
              "      <td>F;S01;7</td>\n",
              "      <td>1.293742</td>\n",
              "      <td>0.964566</td>\n",
              "      <td>0.555556</td>\n",
              "      <td>470.0</td>\n",
              "    </tr>\n",
              "    <tr>\n",
              "      <th>1</th>\n",
              "      <td>2</td>\n",
              "      <td>A070001619</td>\n",
              "      <td>A070000094</td>\n",
              "      <td>A070094007</td>\n",
              "      <td>0</td>\n",
              "      <td>2020-09-16 21:30:37</td>\n",
              "      <td>1.139958</td>\n",
              "      <td>13.727655</td>\n",
              "      <td>0.299840</td>\n",
              "      <td>NaN</td>\n",
              "      <td>M;S01;7</td>\n",
              "      <td>0.864086</td>\n",
              "      <td>0.847392</td>\n",
              "      <td>0.444444</td>\n",
              "      <td>497.0</td>\n",
              "    </tr>\n",
              "    <tr>\n",
              "      <th>2</th>\n",
              "      <td>3</td>\n",
              "      <td>A070001032</td>\n",
              "      <td>A070000094</td>\n",
              "      <td>A070094004</td>\n",
              "      <td>0</td>\n",
              "      <td>2020-12-16 04:31:25</td>\n",
              "      <td>-0.869407</td>\n",
              "      <td>3.337444</td>\n",
              "      <td>0.013006</td>\n",
              "      <td>NaN</td>\n",
              "      <td>F;S01;7</td>\n",
              "      <td>-0.791087</td>\n",
              "      <td>0.347025</td>\n",
              "      <td>0.830409</td>\n",
              "      <td>140.0</td>\n",
              "    </tr>\n",
              "    <tr>\n",
              "      <th>3</th>\n",
              "      <td>4</td>\n",
              "      <td>A070001138</td>\n",
              "      <td>A070000094</td>\n",
              "      <td>A070094001</td>\n",
              "      <td>1</td>\n",
              "      <td>2020-08-08 19:34:14</td>\n",
              "      <td>0.785138</td>\n",
              "      <td>8.954192</td>\n",
              "      <td>0.295473</td>\n",
              "      <td>NaN</td>\n",
              "      <td>F;S01;7</td>\n",
              "      <td>1.233376</td>\n",
              "      <td>0.952915</td>\n",
              "      <td>0.467836</td>\n",
              "      <td>978.0</td>\n",
              "    </tr>\n",
              "    <tr>\n",
              "      <th>4</th>\n",
              "      <td>5</td>\n",
              "      <td>A070001897</td>\n",
              "      <td>A070000094</td>\n",
              "      <td>A070094001</td>\n",
              "      <td>0</td>\n",
              "      <td>2020-11-19 01:41:55</td>\n",
              "      <td>0.785138</td>\n",
              "      <td>8.954192</td>\n",
              "      <td>0.295473</td>\n",
              "      <td>NaN</td>\n",
              "      <td>M;S01;7</td>\n",
              "      <td>-0.571749</td>\n",
              "      <td>0.448073</td>\n",
              "      <td>0.467836</td>\n",
              "      <td>744.0</td>\n",
              "    </tr>\n",
              "  </tbody>\n",
              "</table>\n",
              "</div>\n",
              "      <button class=\"colab-df-convert\" onclick=\"convertToInteractive('df-a4f3e39b-4734-4d84-8645-b2bd79067494')\"\n",
              "              title=\"Convert this dataframe to an interactive table.\"\n",
              "              style=\"display:none;\">\n",
              "        \n",
              "  <svg xmlns=\"http://www.w3.org/2000/svg\" height=\"24px\"viewBox=\"0 0 24 24\"\n",
              "       width=\"24px\">\n",
              "    <path d=\"M0 0h24v24H0V0z\" fill=\"none\"/>\n",
              "    <path d=\"M18.56 5.44l.94 2.06.94-2.06 2.06-.94-2.06-.94-.94-2.06-.94 2.06-2.06.94zm-11 1L8.5 8.5l.94-2.06 2.06-.94-2.06-.94L8.5 2.5l-.94 2.06-2.06.94zm10 10l.94 2.06.94-2.06 2.06-.94-2.06-.94-.94-2.06-.94 2.06-2.06.94z\"/><path d=\"M17.41 7.96l-1.37-1.37c-.4-.4-.92-.59-1.43-.59-.52 0-1.04.2-1.43.59L10.3 9.45l-7.72 7.72c-.78.78-.78 2.05 0 2.83L4 21.41c.39.39.9.59 1.41.59.51 0 1.02-.2 1.41-.59l7.78-7.78 2.81-2.81c.8-.78.8-2.07 0-2.86zM5.41 20L4 18.59l7.72-7.72 1.47 1.35L5.41 20z\"/>\n",
              "  </svg>\n",
              "      </button>\n",
              "      \n",
              "  <style>\n",
              "    .colab-df-container {\n",
              "      display:flex;\n",
              "      flex-wrap:wrap;\n",
              "      gap: 12px;\n",
              "    }\n",
              "\n",
              "    .colab-df-convert {\n",
              "      background-color: #E8F0FE;\n",
              "      border: none;\n",
              "      border-radius: 50%;\n",
              "      cursor: pointer;\n",
              "      display: none;\n",
              "      fill: #1967D2;\n",
              "      height: 32px;\n",
              "      padding: 0 0 0 0;\n",
              "      width: 32px;\n",
              "    }\n",
              "\n",
              "    .colab-df-convert:hover {\n",
              "      background-color: #E2EBFA;\n",
              "      box-shadow: 0px 1px 2px rgba(60, 64, 67, 0.3), 0px 1px 3px 1px rgba(60, 64, 67, 0.15);\n",
              "      fill: #174EA6;\n",
              "    }\n",
              "\n",
              "    [theme=dark] .colab-df-convert {\n",
              "      background-color: #3B4455;\n",
              "      fill: #D2E3FC;\n",
              "    }\n",
              "\n",
              "    [theme=dark] .colab-df-convert:hover {\n",
              "      background-color: #434B5C;\n",
              "      box-shadow: 0px 1px 3px 1px rgba(0, 0, 0, 0.15);\n",
              "      filter: drop-shadow(0px 1px 2px rgba(0, 0, 0, 0.3));\n",
              "      fill: #FFFFFF;\n",
              "    }\n",
              "  </style>\n",
              "\n",
              "      <script>\n",
              "        const buttonEl =\n",
              "          document.querySelector('#df-a4f3e39b-4734-4d84-8645-b2bd79067494 button.colab-df-convert');\n",
              "        buttonEl.style.display =\n",
              "          google.colab.kernel.accessAllowed ? 'block' : 'none';\n",
              "\n",
              "        async function convertToInteractive(key) {\n",
              "          const element = document.querySelector('#df-a4f3e39b-4734-4d84-8645-b2bd79067494');\n",
              "          const dataTable =\n",
              "            await google.colab.kernel.invokeFunction('convertToInteractive',\n",
              "                                                     [key], {});\n",
              "          if (!dataTable) return;\n",
              "\n",
              "          const docLinkHtml = 'Like what you see? Visit the ' +\n",
              "            '<a target=\"_blank\" href=https://colab.research.google.com/notebooks/data_table.ipynb>data table notebook</a>'\n",
              "            + ' to learn more about interactive tables.';\n",
              "          element.innerHTML = '';\n",
              "          dataTable['output_type'] = 'display_data';\n",
              "          await google.colab.output.renderOutput(dataTable, element);\n",
              "          const docLink = document.createElement('div');\n",
              "          docLink.innerHTML = docLinkHtml;\n",
              "          element.appendChild(docLink);\n",
              "        }\n",
              "      </script>\n",
              "    </div>\n",
              "  </div>\n",
              "  "
            ],
            "text/plain": [
              "   index   learnerID  ... question_accuracy Timestamp_elapsed\n",
              "0      1  A070001440  ...          0.555556             470.0\n",
              "1      2  A070001619  ...          0.444444             497.0\n",
              "2      3  A070001032  ...          0.830409             140.0\n",
              "3      4  A070001138  ...          0.467836             978.0\n",
              "4      5  A070001897  ...          0.467836             744.0\n",
              "\n",
              "[5 rows x 15 columns]"
            ]
          },
          "metadata": {},
          "execution_count": 17
        }
      ]
    },
    {
      "cell_type": "code",
      "source": [
        "train2 = train.copy()\n",
        "train3 = train.copy()"
      ],
      "metadata": {
        "id": "FunwuQ7zDqXN"
      },
      "execution_count": null,
      "outputs": []
    },
    {
      "cell_type": "code",
      "source": [
        "import seaborn as sns\n",
        "sns.boxplot(data = train['Timestamp_elapsed'], color = 'skyblue')\n",
        "#sns.boxplot(data = train['theta'])"
      ],
      "metadata": {
        "colab": {
          "base_uri": "https://localhost:8080/",
          "height": 282
        },
        "id": "xbTmmHmqwtP3",
        "outputId": "95a44f27-3d27-42ce-ff84-c13fc48c8a8f"
      },
      "execution_count": null,
      "outputs": [
        {
          "output_type": "execute_result",
          "data": {
            "text/plain": [
              "<matplotlib.axes._subplots.AxesSubplot at 0x7f19e02a1fd0>"
            ]
          },
          "metadata": {},
          "execution_count": 19
        },
        {
          "output_type": "display_data",
          "data": {
            "image/png": "[encoded data removed]",
            "text/plain": [
              "<Figure size 432x288 with 1 Axes>"
            ]
          },
          "metadata": {
            "needs_background": "light"
          }
        }
      ]
    },
    {
      "cell_type": "code",
      "source": [
        "train['Timestamp_elapsed'].describe()"
      ],
      "metadata": {
        "colab": {
          "base_uri": "https://localhost:8080/"
        },
        "id": "Le4vBcozuBd9",
        "outputId": "3e877e73-1f3b-4aa8-87b6-6b1667e5aadd"
      },
      "execution_count": null,
      "outputs": [
        {
          "output_type": "execute_result",
          "data": {
            "text/plain": [
              "count    190646.000000\n",
              "mean        312.275783\n",
              "std         336.512741\n",
              "min           3.000000\n",
              "25%          34.000000\n",
              "50%         197.000000\n",
              "75%         470.000000\n",
              "max        1483.000000\n",
              "Name: Timestamp_elapsed, dtype: float64"
            ]
          },
          "metadata": {},
          "execution_count": 20
        }
      ]
    },
    {
      "cell_type": "code",
      "source": [
        "from torch.utils.data import Dataset, TensorDataset\n",
        "from torch.utils.data import DataLoader\n",
        "import torch"
      ],
      "metadata": {
        "id": "0IWknDdb2pBT"
      },
      "execution_count": null,
      "outputs": []
    },
    {
      "cell_type": "code",
      "source": [
        "train_tensor = torch.from_numpy(train_df.drop(['answerCode', 'KnowledgeTag',\n",
        "                                               'learnerID', 'testID', 'assessmentItemID', 'learnerProfile', \n",
        "                                               'Timestamp'], axis = 1).values).float()\n",
        "\n",
        "print(type(train_tensor))\n",
        "print(train_tensor[0])\n",
        "print(train_tensor[1])"
      ],
      "metadata": {
        "colab": {
          "base_uri": "https://localhost:8080/"
        },
        "id": "E93r2hGqu7cL",
        "outputId": "18be63c8-36a4-4355-ab52-5267395b104e"
      },
      "execution_count": null,
      "outputs": [
        {
          "output_type": "stream",
          "name": "stdout",
          "text": [
            "<class 'torch.Tensor'>\n",
            "tensor([-0.6298,  2.8064,  0.0461, -0.1736,  0.6352])\n",
            "tensor([1.1412e-03, 1.0601e+00, 4.6260e-02, 1.2937e+00, 9.6457e-01])\n"
          ]
        }
      ]
    },
    {
      "cell_type": "markdown",
      "source": [
        "#Dataset, dataloader\n",
        "### CustomDataset에서 dataframe -> array -> tensor 로 바꿔주는 과정 필요"
      ],
      "metadata": {
        "id": "olsLtteI2npf"
      }
    },
    {
      "cell_type": "code",
      "source": [
        "class CustomDataset(Dataset):\n",
        "    def __init__(self, df):\n",
        "        self.x = df.drop(['answerCode', 'KnowledgeTag','learnerID','index', \n",
        "                          'testID', 'assessmentItemID', 'learnerProfile', 'Timestamp'], axis = 1).values\n",
        "        self.y = df['answerCode'].values\n",
        "        #.float()해서 float64 -> float 로 변형\n",
        "        #아래 두 줄을 __getitem__ method 아래 두었으나 tensor로 변형되지 않아서 __init__ method로 넣음. 왜??? \n",
        "        self.x = torch.from_numpy(self.x).float()\n",
        "        self.y = torch.from_numpy(self.y).float()\n",
        "\n",
        "    def __len__(self):\n",
        "        return len(self.x)\n",
        "    \n",
        "    def __getitem__(self, idx):\n",
        "        return self.x, self.y\n",
        "\n",
        "    \n",
        "\n"
      ],
      "metadata": {
        "id": "-GLbZROp6m49"
      },
      "execution_count": null,
      "outputs": []
    },
    {
      "cell_type": "code",
      "source": [
        "batch_size = 256\n",
        "input_size = 7\n",
        "hidden_size = 8\n",
        "num_layers = 2\n",
        "num_classes = 2\n",
        "lr = 0.001"
      ],
      "metadata": {
        "id": "bsbToqTuKuz8"
      },
      "execution_count": null,
      "outputs": []
    },
    {
      "cell_type": "code",
      "source": [
        "train_dataset = CustomDataset(train)\n",
        "test_dataset = CustomDataset(valid)\n",
        "\n",
        "#dataset = torch.utils.data.TensorDataset(dataset.x, dataset.y)\n",
        "\n",
        "train_loader = DataLoader(train_dataset, batch_size = batch_size, shuffle = False)\n",
        "test_loader = DataLoader(test_dataset, batch_size = batch_size, shuffle = False)"
      ],
      "metadata": {
        "id": "LAncWeVxOgT8"
      },
      "execution_count": null,
      "outputs": []
    },
    {
      "cell_type": "code",
      "source": [
        "# for b , sample in enumerate(train_loader):\n",
        "#     print(sample[1])"
      ],
      "metadata": {
        "id": "hSEsQmlgq6T8"
      },
      "execution_count": null,
      "outputs": []
    },
    {
      "cell_type": "code",
      "source": [
        "print(type(train_dataset.x[-1:]))\n",
        "\n",
        "print(train_dataset.x[-1:])\n",
        "print(type(train_dataset.x))\n",
        "print(type(train_dataset.y))\n",
        "#print(dataset.y)"
      ],
      "metadata": {
        "colab": {
          "base_uri": "https://localhost:8080/"
        },
        "id": "E60yKLGGXzIg",
        "outputId": "2a0fe0eb-4e13-494d-b6cb-77307ef724a8"
      },
      "execution_count": null,
      "outputs": [
        {
          "output_type": "stream",
          "name": "stdout",
          "text": [
            "<class 'torch.Tensor'>\n",
            "tensor([[5.9957e-02, 1.9532e+00, 5.8159e-02, 5.8830e-01, 8.5031e-01, 5.1592e-01,\n",
            "         1.3900e+02]])\n",
            "<class 'torch.Tensor'>\n",
            "<class 'torch.Tensor'>\n"
          ]
        }
      ]
    },
    {
      "cell_type": "code",
      "source": [
        "# def generate_batches(dataset, batch_size, shuffle = True, drop_last = True, device = \"gpu\"):\n",
        "#     dataloader = DataLoader(dataset = dataset, batch_size = batch_size, shuffle = shuffle, drop_last = drop_last)\n",
        "#     for data_dict in dataloader:\n",
        "#         out_data_dict = {}\n",
        "#         for name, tensor in data_dict.items():\n",
        "#             out_data_dict[name] = data_dict[name].to(device)\n",
        "#         yield out_data_dict"
      ],
      "metadata": {
        "id": "r04ZwZvFBfqf"
      },
      "execution_count": null,
      "outputs": []
    },
    {
      "cell_type": "markdown",
      "source": [
        "#model"
      ],
      "metadata": {
        "id": "RcrmSuhRPcCp"
      }
    },
    {
      "cell_type": "code",
      "source": [
        "# USE_CUDA = torch.cuda.is_available()\n",
        "# device = torch.device('cuda' if torch.cuda.is_available else 'cpu')"
      ],
      "metadata": {
        "id": "uRDiNQPwpbD5"
      },
      "execution_count": null,
      "outputs": []
    },
    {
      "cell_type": "code",
      "source": [
        "import torch.nn as nn\n",
        "class RNN(nn.Module):\n",
        "    def __init__(self, input_size, hidden_size, num_layers, num_classes):\n",
        "        super(RNN, self).__init__() # 상속한 nn.Module에서 RNN에 해당하는 init 실행\n",
        "        self.hidden_size = hidden_size\n",
        "        self.num_layers = num_layers\n",
        "        self.lstm = nn.LSTM(input_size, hidden_size, num_layers, batch_first=True)\n",
        "        self.fc = nn.Linear(hidden_size, num_classes)\n",
        "\n",
        "    def forward(self, x): \n",
        "        # input x : (BATCH, LENGTH, INPUT_SIZE) 입니다 (다양한 length를 다룰 수 있습니다.).\n",
        "        # 최초의 hidden state와 cell state를 초기화시켜주어야 합니다.\n",
        "        # 배치 사이즈는 가변적이므로 클래스 내에선 표현하지 않습니다.\n",
        "        # 만약 Bi-directional LSTM이라면 아래의 hidden and cell states의 첫번째 차원은 2*self.num_layers 입니다. \n",
        "        h0 = torch.zeros(self.num_layers, x.size(0), self.hidden_size)# (BATCH SIZE, SEQ_LENGTH, HIDDEN_SIZE)\n",
        "        c0 = torch.zeros(self.num_layers, x.size(0), self.hidden_size) # hidden state와 동일\n",
        "\n",
        "        # LSTM 순전파\n",
        "        out, _ = self.lstm(x, (h0, c0)) # output : (BATCH_SIZE, SEQ_LENGTH, HIDDEN_SIZE) tensors. (hn, cn)은 필요 없으므로 받지 않고 _로 처리합니다. \n",
        "\n",
        "        # 마지막 time step(sequence length)의 hidden state를 사용해 Class들의 logit을 반환합니다(hidden_size -> num_classes). \n",
        "        out = self.fc(out[:, -1, :])\n",
        "        return out\n",
        "\n"
      ],
      "metadata": {
        "id": "NmSc_XrQIqmn"
      },
      "execution_count": null,
      "outputs": []
    },
    {
      "cell_type": "code",
      "source": [
        "# #DKT (https://github.com/hcnoh/knowledge-tracing-collection-pytorch/blob/main/models/dkt.py)\n",
        "# import os\n",
        "\n",
        "# import numpy as np\n",
        "# import torch\n",
        "\n",
        "# from torch.nn import Module, Embedding, LSTM, Linear, Dropout\n",
        "# from torch.nn.functional import one_hot, binary_cross_entropy\n",
        "# from sklearn import metrics\n",
        "\n",
        "\n",
        "# class DKT(Module):\n",
        "#     '''\n",
        "#         Args:\n",
        "#             num_q: the total number of the questions(KCs) in the given dataset\n",
        "#             emb_size: the dimension of the embedding vectors in this model\n",
        "#             hidden_size: the dimension of the hidden vectors in this model\n",
        "#     '''\n",
        "#     def __init__(self, num_q, emb_size, hidden_size):\n",
        "#         super().__init__()\n",
        "#         self.num_q = num_q\n",
        "#         self.emb_size = emb_size\n",
        "#         self.hidden_size = hidden_size\n",
        "\n",
        "#         self.interaction_emb = Embedding(self.num_q * 2, self.emb_size)\n",
        "#         self.lstm_layer = LSTM(\n",
        "#             self.emb_size, self.hidden_size, batch_first=True\n",
        "#         )\n",
        "#         self.out_layer = Linear(self.hidden_size, self.num_q)\n",
        "#         self.dropout_layer = Dropout()\n",
        "\n",
        "#     def forward(self, q, r):\n",
        "#         '''\n",
        "#             Args:\n",
        "#                 q: the question(KC) sequence with the size of [batch_size, n]\n",
        "#                 r: the response sequence with the size of [batch_size, n]\n",
        "#             Returns:\n",
        "#                 y: the knowledge level about the all questions(KCs)\n",
        "#         '''\n",
        "#         x = q + self.num_q * r\n",
        "\n",
        "#         h, _ = self.lstm_layer(self.interaction_emb(x))\n",
        "#         y = self.out_layer(h)\n",
        "#         y = self.dropout_layer(y)\n",
        "#         y = torch.sigmoid(y)\n",
        "\n",
        "#         return y\n",
        "\n",
        "#     def train_model(\n",
        "#         self, train_loader, test_loader, num_epochs, opt, ckpt_path\n",
        "#     ):\n",
        "#         '''\n",
        "#             Args:\n",
        "#                 train_loader: the PyTorch DataLoader instance for training\n",
        "#                 test_loader: the PyTorch DataLoader instance for test\n",
        "#                 num_epochs: the number of epochs\n",
        "#                 opt: the optimization to train this model\n",
        "#                 ckpt_path: the path to save this model's parameters\n",
        "#         '''\n",
        "#         aucs = []\n",
        "#         loss_means = []\n",
        "\n",
        "#         max_auc = 0\n",
        "\n",
        "#         for i in range(1, num_epochs + 1):\n",
        "#             loss_mean = []\n",
        "\n",
        "#             for data in train_loader:\n",
        "#                 q, r, qshft, rshft, m = data\n",
        "\n",
        "#                 self.train()\n",
        "\n",
        "#                 y = self(q.long(), r.long())\n",
        "#                 y = (y * one_hot(qshft.long(), self.num_q)).sum(-1)\n",
        "\n",
        "#                 y = torch.masked_select(y, m)\n",
        "#                 t = torch.masked_select(rshft, m)\n",
        "\n",
        "#                 opt.zero_grad()\n",
        "#                 loss = binary_cross_entropy(y, t)\n",
        "#                 loss.backward()\n",
        "#                 opt.step()\n",
        "\n",
        "#                 loss_mean.append(loss.detach().cpu().numpy())\n",
        "\n",
        "#             with torch.no_grad():\n",
        "#                 for data in test_loader:\n",
        "#                     q, r, qshft, rshft, m = data\n",
        "\n",
        "#                     self.eval()\n",
        "\n",
        "#                     y = self(q.long(), r.long())\n",
        "#                     y = (y * one_hot(qshft.long(), self.num_q)).sum(-1)\n",
        "\n",
        "#                     y = torch.masked_select(y, m).detach().cpu()\n",
        "#                     t = torch.masked_select(rshft, m).detach().cpu()\n",
        "\n",
        "#                     auc = metrics.roc_auc_score(\n",
        "#                         y_true=t.numpy(), y_score=y.numpy()\n",
        "#                     )\n",
        "\n",
        "#                     loss_mean = np.mean(loss_mean)\n",
        "\n",
        "#                     print(\n",
        "#                         \"Epoch: {},   AUC: {},   Loss Mean: {}\"\n",
        "#                         .format(i, auc, loss_mean)\n",
        "#                     )\n",
        "\n",
        "#                     if auc > max_auc:\n",
        "#                         torch.save(\n",
        "#                             self.state_dict(),\n",
        "#                             os.path.join(\n",
        "#                                 ckpt_path, \"model.ckpt\"\n",
        "#                             )\n",
        "#                         )\n",
        "#                         max_auc = auc\n",
        "\n",
        "#                     aucs.append(auc)\n",
        "#                     loss_means.append(loss_mean)\n",
        "\n",
        "#         return aucs, loss_means"
      ],
      "metadata": {
        "id": "NTMXJDHdNaCm"
      },
      "execution_count": null,
      "outputs": []
    },
    {
      "cell_type": "code",
      "source": [
        "#model = RNN(input_size, hidden_size, num_layers, num_classes).to(device)\n",
        "model = RNN(input_size, hidden_size, num_layers, num_classes)\n",
        "optimizer = torch.optim.Adam(model.parameters(), lr=lr)\n",
        "criterion = nn.BCEWithLogitsLoss()\n"
      ],
      "metadata": {
        "id": "lEABDN07cWum"
      },
      "execution_count": null,
      "outputs": []
    },
    {
      "cell_type": "code",
      "source": [
        "# nb_epochs = 10\n",
        "# for epoch in range(nb_epochs + 1):\n",
        "#     for batch_idx, samples in enumerate(train_loader):\n",
        "#         # print(batch_idx)\n",
        "#         # print(samples)\n",
        "#         x_train, y_train = samples\n",
        "        \n",
        "#         prediction = model(x_train)\n",
        "\n",
        "#         loss = criterion(prediction, y_train)\n",
        "\n",
        "\n",
        "#         optimizer.zero_grad()\n",
        "#         loss.backward()\n",
        "#         optimizer.step()\n",
        "\n",
        "\n",
        "#         print('Epoch {:4d}/{} Batch {}/{} Cost: {:.6f}'.format(\n",
        "#         epoch, nb_epochs, batch_idx+1, len(dataloader), cost.item()\n",
        "#         ))"
      ],
      "metadata": {
        "id": "Hu7e6bzttSmt"
      },
      "execution_count": null,
      "outputs": []
    },
    {
      "cell_type": "markdown",
      "source": [
        "#train"
      ],
      "metadata": {
        "id": "zvwqT5nQ76SN"
      }
    },
    {
      "cell_type": "code",
      "source": [
        "train_iter = train_loader\n",
        "val_iter = test_loader"
      ],
      "metadata": {
        "id": "VSyLqhl9KBm8"
      },
      "execution_count": null,
      "outputs": []
    },
    {
      "cell_type": "code",
      "source": [
        "def train(model, optimizer, train_loader):\n",
        "    model.train()\n",
        "    for b, batch in enumerate(train_loader):\n",
        "        x, y = batch[0], batch[1]\n",
        "        #y.data.sub_(1)  # 레이블 값을 0과 1로 변환\n",
        "        optimizer.zero_grad()\n",
        "\n",
        "        logit = model(x)\n",
        "        loss = F.cross_entropy(logit, y)\n",
        "        loss.backward()\n",
        "        optimizer.step()"
      ],
      "metadata": {
        "id": "_yQkEd3rgV0E"
      },
      "execution_count": null,
      "outputs": []
    },
    {
      "cell_type": "code",
      "source": [
        "best_val_loss = None\n",
        "for e in range(1, EPOCHS+1):\n",
        "    train(model, optimizer, train_loader)\n",
        "    val_loss, val_accuracy = evaluate(model, val_iter)\n",
        "\n",
        "    print(\"[Epoch: %d] val loss : %5.2f | val accuracy : %5.2f\" % (e, val_loss, val_accuracy))\n",
        "\n",
        "    # 검증 오차가 가장 적은 최적의 모델을 저장\n",
        "    if not best_val_loss or val_loss < best_val_loss:\n",
        "        if not os.path.isdir(\"snapshot\"):\n",
        "            os.makedirs(\"snapshot\")\n",
        "        torch.save(model.state_dict(), './snapshot/txtclassification.pt')\n",
        "        best_val_loss = val_loss"
      ],
      "metadata": {
        "colab": {
          "base_uri": "https://localhost:8080/",
          "height": 235
        },
        "id": "Htp-zFzwgapQ",
        "outputId": "01a6cd17-68b1-4daf-c034-445ba7634154"
      },
      "execution_count": null,
      "outputs": [
        {
          "output_type": "error",
          "ename": "NameError",
          "evalue": "ignored",
          "traceback": [
            "\u001b[0;31m---------------------------------------------------------------------------\u001b[0m",
            "\u001b[0;31mNameError\u001b[0m                                 Traceback (most recent call last)",
            "\u001b[0;32m<ipython-input-35-9a8846134d10>\u001b[0m in \u001b[0;36m<module>\u001b[0;34m()\u001b[0m\n\u001b[1;32m      1\u001b[0m \u001b[0mbest_val_loss\u001b[0m \u001b[0;34m=\u001b[0m \u001b[0;32mNone\u001b[0m\u001b[0;34m\u001b[0m\u001b[0;34m\u001b[0m\u001b[0m\n\u001b[0;32m----> 2\u001b[0;31m \u001b[0;32mfor\u001b[0m \u001b[0me\u001b[0m \u001b[0;32min\u001b[0m \u001b[0mrange\u001b[0m\u001b[0;34m(\u001b[0m\u001b[0;36m1\u001b[0m\u001b[0;34m,\u001b[0m \u001b[0mEPOCHS\u001b[0m\u001b[0;34m+\u001b[0m\u001b[0;36m1\u001b[0m\u001b[0;34m)\u001b[0m\u001b[0;34m:\u001b[0m\u001b[0;34m\u001b[0m\u001b[0;34m\u001b[0m\u001b[0m\n\u001b[0m\u001b[1;32m      3\u001b[0m     \u001b[0mtrain\u001b[0m\u001b[0;34m(\u001b[0m\u001b[0mmodel\u001b[0m\u001b[0;34m,\u001b[0m \u001b[0moptimizer\u001b[0m\u001b[0;34m,\u001b[0m \u001b[0mtrain_loader\u001b[0m\u001b[0;34m)\u001b[0m\u001b[0;34m\u001b[0m\u001b[0;34m\u001b[0m\u001b[0m\n\u001b[1;32m      4\u001b[0m     \u001b[0mval_loss\u001b[0m\u001b[0;34m,\u001b[0m \u001b[0mval_accuracy\u001b[0m \u001b[0;34m=\u001b[0m \u001b[0mevaluate\u001b[0m\u001b[0;34m(\u001b[0m\u001b[0mmodel\u001b[0m\u001b[0;34m,\u001b[0m \u001b[0mval_iter\u001b[0m\u001b[0;34m)\u001b[0m\u001b[0;34m\u001b[0m\u001b[0;34m\u001b[0m\u001b[0m\n\u001b[1;32m      5\u001b[0m \u001b[0;34m\u001b[0m\u001b[0m\n",
            "\u001b[0;31mNameError\u001b[0m: name 'EPOCHS' is not defined"
          ]
        }
      ]
    },
    {
      "cell_type": "code",
      "source": [
        "import torch \n",
        "from torch.optim import Adam\n",
        "\n",
        "#model = nn.LSTM(input_size = 7, hidden_size = 2, 2)\n",
        "model = torch.nn.LSTM(input_size = 7, hidden_size = 2, num_layers = 2, batch_first = True)\n",
        "#model = torch.nn.GRU(7, 1, 1)\n",
        "optimizer = torch.optim.Adam(model.parameters(), lr = 1e-5)\n",
        "#batch_generator = generate_batches(train, batch_size = 20)"
      ],
      "metadata": {
        "id": "ipBjw44U7_BZ"
      },
      "execution_count": null,
      "outputs": []
    },
    {
      "cell_type": "code",
      "source": [
        "# nb_epochs = 20\n",
        "# for epoch in range(nb_epochs + 1):\n",
        "#     for batch_idx, samples in enumerate(dataloader):\n",
        "#         print(batch_idx)\n",
        "#         print(samples)\n",
        "#         x_train, y_train = samples\n",
        "#         prediction = model(x_train)\n",
        "\n",
        "#         prediction = torch.nn.BCEWithLogitsLoss()\n",
        "#         #loss = criterion(prediction, y_train)\n",
        "\n",
        "#         optimizer.zero_grad()\n",
        "#         cost.backward()\n",
        "#         optimizer.step()\n",
        "\n",
        "\n",
        "#         print('Epoch {:4d}/{} Batch {}/{} Cost: {:.6f}'.format(\n",
        "#         epoch, nb_epochs, batch_idx+1, len(dataloader), cost.item()\n",
        "#         ))\n"
      ],
      "metadata": {
        "id": "27QODNTVBeK_"
      },
      "execution_count": null,
      "outputs": []
    },
    {
      "cell_type": "code",
      "source": [
        ""
      ],
      "metadata": {
        "id": "DWRI-a2l-QGi"
      },
      "execution_count": null,
      "outputs": []
    },
    {
      "cell_type": "markdown",
      "source": [
        "#평가"
      ],
      "metadata": {
        "id": "gmXORbKd-QvV"
      }
    },
    {
      "cell_type": "code",
      "source": [
        "def evaluate(model, val_iter):\n",
        "    \"\"\"evaluate model\"\"\"\n",
        "    model.eval()\n",
        "    corrects, total_loss = 0, 0\n",
        "    for batch in val_iter:\n",
        "        x, y = batch.text.to(DEVICE), batch.label.to(DEVICE)\n",
        "        #y.data.sub_(1) # 레이블 값을 0과 1로 변환\n",
        "        logit = model(x)\n",
        "        loss = F.cross_entropy(logit, y, reduction='sum')\n",
        "        total_loss += loss.item()\n",
        "        corrects += (logit.max(1)[1].view(y.size()).data == y.data).sum()\n",
        "    size = len(val_iter.dataset)\n",
        "    avg_loss = total_loss / size\n",
        "    avg_accuracy = 100.0 * corrects / size\n",
        "    return avg_loss, avg_accuracy"
      ],
      "metadata": {
        "id": "G5LmeH4a-UHo"
      },
      "execution_count": null,
      "outputs": []
    }
  ]
}