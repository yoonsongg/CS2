{
  "nbformat": 4,
  "nbformat_minor": 0,
  "metadata": {
    "colab": {
      "name": "Deep_Learning_from_scratch3_part2.ipynb",
      "provenance": [],
      "authorship_tag": "ABX9TyOwzRRfivWtJr+jKCWz0scc",
      "include_colab_link": true
    },
    "kernelspec": {
      "name": "python3",
      "display_name": "Python 3"
    },
    "language_info": {
      "name": "python"
    }
  },
  "cells": [
    {
      "cell_type": "markdown",
      "metadata": {
        "id": "view-in-github",
        "colab_type": "text"
      },
      "source": [
        "<a href=\"https://colab.research.google.com/github/yoonsongg/CS2/blob/main/Deep_Learning_from_scratch3_part2.ipynb\" target=\"_parent\"><img src=\"https://colab.research.google.com/assets/colab-badge.svg\" alt=\"Open In Colab\"/></a>"
      ]
    },
    {
      "cell_type": "markdown",
      "source": [
        "#step11 가변길이인수(순전파편) ~ step 13"
      ],
      "metadata": {
        "id": "jyh9bR3VovOD"
      }
    },
    {
      "cell_type": "code",
      "execution_count": null,
      "metadata": {
        "id": "3SjEtAQwomd5"
      },
      "outputs": [],
      "source": [
        "class Variable:\n",
        "    def __init__(self, data):\n",
        "        #only ndarray 만 가능하도록\n",
        "        if data is not None:\n",
        "            if not isinstance(data, np.ndarray):\n",
        "                raise TypeError('f{}은 지원하지 않습니다.', type(data))\n",
        "\n",
        "        self.data = data\n",
        "        self.grad = None\n",
        "        self.creator = None\n",
        "    \n",
        "    def set_creator(self, func):\n",
        "        self.creator = func\n",
        "\n",
        "    def backward(self):\n",
        "        #매번 y.grad = np.array(1.0) 쓰기 구찮(so 아래 두줄)\n",
        "        if self.grad is None:\n",
        "            self.grad = np.ones_like(self.data)\n",
        "\n",
        "        funcs = [self.creator]\n",
        "        while funcs:\n",
        "            f = funcs.pop()\n",
        "            x, y = f.input, f.output\n",
        "            x.grad = f.backward(y.grad)\n",
        " \n",
        "            if x.creator is not None:\n",
        "                funcs.append(x.creator)\n"
      ]
    },
    {
      "cell_type": "code",
      "source": [
        "class Function:\n",
        "    def __call__(self, inputs):\n",
        "        ## 리스트로 변경\n",
        "        #x = input.data\n",
        "        #y = self.forward(x)\n",
        "        xs = [x.data for x in inputs]\n",
        "        ys = self.forward(xs)\n",
        "        outputs = [Variable(as_array(y)) for y in ys]\n",
        "\n",
        "        #편의를 위한 함수 사용(as_array)\n",
        "        #output = Variable(y)\n",
        "        #output = Variable(as_array(y))\n",
        "\n",
        "        #output.set_creator(self)\n",
        "        #self.input = input\n",
        "        #self.output = output\n",
        "\n",
        "        for output in outputs:\n",
        "            output.set_creator(self)\n",
        "        self.inputs = inputs\n",
        "        self.outputs = outputs\n",
        "        \n",
        "        return outputs\n",
        "\n",
        "    def forward(self, xs):\n",
        "        raise NotImplementedError\n",
        "    \n",
        "    def backward(self, gys):\n",
        "        raise NotImplementedError\n",
        "    \n",
        "class Add(Function):\n",
        "    def forward(self, xs):\n",
        "        x0, x1 = xs\n",
        "        y = x0 + x1\n",
        "        return (y, )\n"
      ],
      "metadata": {
        "id": "qI7ftIolXy1y"
      },
      "execution_count": null,
      "outputs": []
    },
    {
      "cell_type": "code",
      "source": [
        "#편의를 위한 함수\n",
        "def as_array(x):\n",
        "    if np.isscalar(x):\n",
        "        return np.array(x)\n",
        "    return x\n",
        "\n",
        "#매번 선언하기 귀찮. 그래서 다시 함수구현\n",
        "def square(x):\n",
        "    return Square()(x)\n",
        "def exp(x):\n",
        "    return Exp()(x)\n",
        "\n",
        "def add(x0, x1):\n",
        "    return Add()(x0, x1)"
      ],
      "metadata": {
        "id": "zhbMQ9zeXpzZ"
      },
      "execution_count": null,
      "outputs": []
    },
    {
      "cell_type": "code",
      "source": [
        "import numpy as np\n",
        "xs = [Variable(np.array(2)), Variable(np.array(3))]\n",
        "f = Add()\n",
        "ys = f(xs)\n",
        "print(ys[0])\n",
        "print(ys[0].data)"
      ],
      "metadata": {
        "colab": {
          "base_uri": "https://localhost:8080/"
        },
        "id": "j_H1A9e6YEpr",
        "outputId": "0104c941-8523-453e-8698-d82dc42b9cff"
      },
      "execution_count": null,
      "outputs": [
        {
          "output_type": "stream",
          "name": "stdout",
          "text": [
            "<__main__.Variable object at 0x7ff914a5d1d0>\n",
            "5\n"
          ]
        }
      ]
    },
    {
      "cell_type": "markdown",
      "source": [
        "#step12 가변길이 인수(개선편)"
      ],
      "metadata": {
        "id": "TZIxswbOakyA"
      }
    },
    {
      "cell_type": "code",
      "source": [
        "def f(*x):\n",
        "    print(x)\n",
        "\n",
        "f(1,2,3, 4, 5)"
      ],
      "metadata": {
        "colab": {
          "base_uri": "https://localhost:8080/"
        },
        "id": "XXChO200wD0u",
        "outputId": "e5d4ccfe-51e8-4beb-ff72-0e2ff4353462"
      },
      "execution_count": null,
      "outputs": [
        {
          "output_type": "stream",
          "name": "stdout",
          "text": [
            "(1, 2, 3, 4, 5)\n"
          ]
        }
      ]
    },
    {
      "cell_type": "code",
      "source": [
        "x0 = Variable(np.array(2))\n",
        "x1 = Variable(np.array(3))\n",
        "y = add(x0, x1)\n",
        "print(y.data)"
      ],
      "metadata": {
        "colab": {
          "base_uri": "https://localhost:8080/"
        },
        "id": "0IDjoOqswH7p",
        "outputId": "b5a408d3-f7b6-4fca-f5c1-31a83444e88b"
      },
      "execution_count": null,
      "outputs": [
        {
          "output_type": "stream",
          "name": "stdout",
          "text": [
            "5\n"
          ]
        }
      ]
    },
    {
      "cell_type": "code",
      "source": [
        "import numpy as np \n",
        "\n",
        "class Variable:\n",
        "    def __init__(self, data):\n",
        "        #only ndarray 만 가능하도록\n",
        "        if data is not None:\n",
        "            if not isinstance(data, np.ndarray):\n",
        "                raise TypeError(f'{type(data)}은 지원하지 않습니다.')\n",
        "\n",
        "        self.data = data\n",
        "        self.grad = None\n",
        "        self.creator = None\n",
        "    \n",
        "    def set_creator(self, func):\n",
        "        self.creator = func\n",
        "\n",
        "    def backward(self):\n",
        "        #매번 y.grad = np.array(1.0) 쓰기 구찮(so 아래 두줄)\n",
        "        if self.grad is None:\n",
        "            self.grad = np.ones_like(self.data)\n",
        "        funcs = [self.creator]\n",
        "\n",
        "        while funcs:\n",
        "            f = funcs.pop()\n",
        "            #입출력 하나씩 -> 입출력 여러개\n",
        "            # x, y = f.input, f.output\n",
        "            # x.grad = f.backward(y.grad)\n",
        "            gys = [output.grad for output in f.outputs]\n",
        "            gxs = f.backward(*gys)\n",
        "            if not isinstance(gxs, tuple):\n",
        "                gxs = (gxs, )\n",
        "            \n",
        "            for x, gx in zip(f.inputs, gxs):\n",
        "                x.grad = gx\n",
        "\n",
        "                if x.creator is not None:\n",
        "                    funcs.append(x.creator)\n",
        " \n",
        "            # if x.creator is not None:\n",
        "            #     funcs.append(x.creator)"
      ],
      "metadata": {
        "id": "uvfty0drydrb"
      },
      "execution_count": null,
      "outputs": []
    },
    {
      "cell_type": "code",
      "source": [
        "#*inputs 해서 * 붙이면 가변길이 인수 받는 것 가능\n",
        "class Function:\n",
        "    def __call__(self, *inputs):\n",
        "        xs = [x.data for x in inputs]\n",
        "        ys = self.forward(*xs)\n",
        "        if not isinstance(ys, tuple):\n",
        "            ys = (ys,)\n",
        "        outputs = [Variable(as_array(y)) for y in ys]\n",
        "\n",
        "        for output in outputs:\n",
        "            output.set_creator(self)\n",
        "        self.inputs = inputs\n",
        "        self.outputs = outputs\n",
        "\n",
        "        return outputs if len(outputs) > 1 else outputs[0]\n",
        "\n",
        "    def forward(self, xs):\n",
        "        raise NotImplementedError()\n",
        "\n",
        "    def backward(self, gys):\n",
        "        raise NotImplementedError()\n",
        "\n",
        "\n",
        "class Add(Function):\n",
        "    def forward(self, x0, x1):\n",
        "        y = x0 + x1\n",
        "        return y\n",
        "    def backward(self, gy):\n",
        "        return gy, gys\n",
        "\n",
        "\n",
        "def add(x0, x1):\n",
        "    return Add()(x0, x1)"
      ],
      "metadata": {
        "id": "3Al2FkTKapqB"
      },
      "execution_count": null,
      "outputs": []
    },
    {
      "cell_type": "code",
      "source": [
        "class Add(Function):\n",
        "    def forward(self, x0, x1):\n",
        "        y = x0 + x1\n",
        "        return y\n",
        "    \n",
        "    def backward(self, gy):\n",
        "        return gy, gy\n",
        "\n",
        "class Square(Function):\n",
        "    def forward(self, x):\n",
        "        y = x ** 2\n",
        "        return y\n",
        "\n",
        "    def backward(self, gy):\n",
        "        #x = self.input.data\n",
        "        x = self.inputs[0].data\n",
        "        gx = 2 * x * gy\n",
        "        return gx\n",
        "\n",
        "def as_array(x):\n",
        "    if np.isscalar(x):\n",
        "        return np.array(x)\n",
        "    return x\n",
        "\n",
        "def add(x0, x1):\n",
        "    return Add()(x0, x1)\n",
        "\n",
        "def square(x):\n",
        "    return Square()(x)"
      ],
      "metadata": {
        "id": "u5N8X4bAx2Om"
      },
      "execution_count": null,
      "outputs": []
    },
    {
      "cell_type": "code",
      "source": [
        "x = Variable(np.array(2.0))\n",
        "y = Variable(np.array(3.0))\n",
        "\n",
        "z = add(square(x), square(y))\n",
        "z.backward()\n",
        "print(z.data)\n",
        "print(x.grad)\n",
        "print(y.grad)"
      ],
      "metadata": {
        "colab": {
          "base_uri": "https://localhost:8080/"
        },
        "id": "60iSL1896tg1",
        "outputId": "264645d8-47d1-403e-af1f-b207651cefc0"
      },
      "execution_count": null,
      "outputs": [
        {
          "output_type": "stream",
          "name": "stdout",
          "text": [
            "13.0\n",
            "4.0\n",
            "6.0\n"
          ]
        }
      ]
    },
    {
      "cell_type": "markdown",
      "source": [
        "#step14 같은 변수 반복 사용"
      ],
      "metadata": {
        "id": "KWRFN-RTEYUr"
      }
    },
    {
      "cell_type": "code",
      "source": [
        "import numpy as np \n",
        "\n",
        "class Variable:\n",
        "    def __init__(self, data):\n",
        "        if data is not None:\n",
        "            if not isinstance(data, np.ndarray):\n",
        "                raise TypeError(f'{type(data)}은 지원하지 않습니다.')\n",
        "\n",
        "        self.data = data\n",
        "        self.grad = None\n",
        "        self.creator = None\n",
        "    \n",
        "    def set_creator(self, func):\n",
        "        self.creator = func\n",
        "\n",
        "    def backward(self):\n",
        "        if self.grad is None:\n",
        "            self.grad = np.ones_like(self.data)\n",
        "        funcs = [self.creator]\n",
        "\n",
        "        while funcs:\n",
        "            f = funcs.pop()\n",
        "\n",
        "            gys = [output.grad for output in f.outputs]\n",
        "            gxs = f.backward(*gys)\n",
        "            if not isinstance(gxs, tuple):\n",
        "                gxs = (gxs, )\n",
        "            \n",
        "            for x, gx in zip(f.inputs, gxs):\n",
        "                #전파되는 미분값의 합이 필요 한 것\n",
        "                #x.grad = gx\n",
        "                if x.grad is None:\n",
        "                    x.grad = gx\n",
        "                else:\n",
        "                    x.grad = x.grad + gx\n",
        "\n",
        "                if x.creator is not None:\n",
        "                    funcs.append(x.creator)\n",
        "  #grad 초기화 해주는 메쏘드 추가 \n",
        "    def cleargrad(self):\n",
        "        self.grad = None\n",
        "\n",
        "\n"
      ],
      "metadata": {
        "id": "7oduY_niBaFs"
      },
      "execution_count": null,
      "outputs": []
    },
    {
      "cell_type": "code",
      "source": [
        "x = Variable(np.array(3.0))\n",
        "y = add(x, x)\n",
        "y.backward()\n",
        "print(x.grad)"
      ],
      "metadata": {
        "colab": {
          "base_uri": "https://localhost:8080/"
        },
        "id": "Z8FkMXTiGJOF",
        "outputId": "553f9e49-3e06-4cf1-b2b0-5e72738a57e7"
      },
      "execution_count": null,
      "outputs": [
        {
          "output_type": "stream",
          "name": "stdout",
          "text": [
            "2.0\n"
          ]
        }
      ]
    },
    {
      "cell_type": "code",
      "source": [
        "x = Variable(np.array(3.0))\n",
        "y = add(x, x)\n",
        "y.backward()\n",
        "print(x.grad)\n",
        "\n",
        "x.cleargrad()\n",
        "x = Variable(np.array(3.0))\n",
        "y = add(add(x,x),x)\n",
        "y.backward()\n",
        "print(x.grad)"
      ],
      "metadata": {
        "colab": {
          "base_uri": "https://localhost:8080/"
        },
        "id": "FM3JXTX_GNoH",
        "outputId": "6afa3409-df81-470c-f6ea-6c8ff451dcd2"
      },
      "execution_count": null,
      "outputs": [
        {
          "output_type": "stream",
          "name": "stdout",
          "text": [
            "2.0\n",
            "3.0\n"
          ]
        }
      ]
    },
    {
      "cell_type": "code",
      "source": [
        ""
      ],
      "metadata": {
        "id": "DCdZ_S0FG8ZY"
      },
      "execution_count": null,
      "outputs": []
    },
    {
      "cell_type": "markdown",
      "source": [
        "#step15~16 복잡한 계산 그래프 \n"
      ],
      "metadata": {
        "id": "rfAyb_JhInHr"
      }
    },
    {
      "cell_type": "code",
      "source": [
        "import numpy as np \n",
        "\n",
        "class Variable:\n",
        "    def __init__(self, data):\n",
        "        if data is not None:\n",
        "            if not isinstance(data, np.ndarray):\n",
        "                raise TypeError(f'{type(data)}은 지원하지 않습니다.')\n",
        "\n",
        "        self.data = data\n",
        "        self.grad = None\n",
        "        self.creator = None\n",
        "        #역전파 순서를 제대로 하기 위해 변수 추가 \n",
        "        self.generation = 0\n",
        "    \n",
        "    def set_creator(self, func):\n",
        "        self.creator = func\n",
        "        #creator 만들어질 때마다 세대번호 추가 \n",
        "        self.generation = func.generation + 1\n",
        "    \n",
        "    def cleargrad(self):\n",
        "        self.grad = None\n",
        "\n",
        "    def backward(self):\n",
        "        if self.grad is None:\n",
        "            self.grad = np.ones_like(self.data)\n",
        "\n",
        "#        funcs = [self.creator]\n",
        "\n",
        "        #추가시킨 부분\n",
        "        funcs = []\n",
        "        seen_set = set()\n",
        "        #backward안의 중첩함수(함수를 generation 순대로 정렬하는 역할)\n",
        "        def add_func(f):\n",
        "            if f not in seen_set:\n",
        "                funcs.append(f)\n",
        "                seen_set.add(f)\n",
        "                funcs.sort(key = lambda x: x.generation)\n",
        "        \n",
        "        add_func(self.creator)\n",
        "\n",
        "        while funcs:\n",
        "            f = funcs.pop()\n",
        "            #Function class에서 output에 약함참조 사용. 그래서 변경\n",
        "#            gys = [output.grad for output in f.outputs]\n",
        "            gys = [output().grad for output in f.outputs]\n",
        "            gxs = f.backward(*gys)\n",
        "            if not isinstance(gxs, tuple):\n",
        "                gxs = (gxs, )\n",
        "            \n",
        "            for x, gx in zip(f.inputs, gxs):\n",
        "                if x.grad is None:\n",
        "                    x.grad = gx\n",
        "                else:\n",
        "                    x.grad = x.grad + gx\n",
        "\n",
        "                if x.creator is not None:\n",
        " #                   funcs.append(x.creator)\n",
        "                    add_func(x.creator)\n",
        "\n",
        "\n",
        "class Function:\n",
        "    def __call__(self, *inputs):\n",
        "        xs = [x.data for x in inputs]\n",
        "        ys = self.forward(*xs)\n",
        "        if not isinstance(ys, tuple):\n",
        "            ys = (ys,)\n",
        "        outputs = [Variable(as_array(y)) for y in ys]\n",
        "        #generation큰걸 꺼냄\n",
        "        self.generation = max([x.generation for x in inputs])\n",
        "\n",
        "\n",
        "        for output in outputs:\n",
        "            output.set_creator(self)\n",
        "        self.inputs = inputs\n",
        "        self.outputs = outputs\n",
        "        return outputs if len(outputs) > 1 else outputs[0]\n",
        "\n",
        "    def forward(self, xs):\n",
        "        raise NotImplementedError()\n",
        "\n",
        "    def backward(self, gys):\n",
        "        raise NotImplementedError()\n",
        "    \n",
        "\n",
        "class Square(Function):\n",
        "    def forward(self, x):\n",
        "        y = x ** 2\n",
        "        return y\n",
        "\n",
        "    def backward(self, gy):\n",
        "        #x = self.input.data\n",
        "        x = self.inputs[0].data\n",
        "        gx = 2 * x * gy\n",
        "        return gx\n",
        "\n",
        "class Add(Function):\n",
        "    def forward(self, x0, x1):\n",
        "        y = x0 + x1\n",
        "        return y\n",
        "\n",
        "    def backward(self, gy):\n",
        "        return gy, gy"
      ],
      "metadata": {
        "id": "TWCHQqpLIpsu"
      },
      "execution_count": null,
      "outputs": []
    },
    {
      "cell_type": "code",
      "source": [
        "#dummy function 준비\n",
        "generations = [2, 0, 1, 4, 2]\n",
        "funcs = []\n",
        "\n",
        "for g in generations:\n",
        "    f = Function()\n",
        "    #function에 g(제너레이션숫자) 배당\n",
        "    f.generation = g\n",
        "    funcs.append(f)\n"
      ],
      "metadata": {
        "id": "eFhqXXZmLFsP"
      },
      "execution_count": null,
      "outputs": []
    },
    {
      "cell_type": "code",
      "source": [
        "[f.generation for f in funcs]"
      ],
      "metadata": {
        "colab": {
          "base_uri": "https://localhost:8080/"
        },
        "id": "c9OBeB4xLRPc",
        "outputId": "a8a3b732-6239-4244-cfb0-e0b82cc3423f"
      },
      "execution_count": null,
      "outputs": [
        {
          "output_type": "execute_result",
          "data": {
            "text/plain": [
              "[2, 0, 1, 4, 2]"
            ]
          },
          "metadata": {},
          "execution_count": 16
        }
      ]
    },
    {
      "cell_type": "code",
      "source": [
        "funcs.sort(key = lambda x: x.generation)\n",
        "[f.generation for f in funcs]"
      ],
      "metadata": {
        "colab": {
          "base_uri": "https://localhost:8080/"
        },
        "id": "bp6Tc3fhLWLt",
        "outputId": "b01fd2bc-e53b-4c23-9a98-e927ef39c9ab"
      },
      "execution_count": null,
      "outputs": [
        {
          "output_type": "execute_result",
          "data": {
            "text/plain": [
              "[0, 1, 2, 2, 4]"
            ]
          },
          "metadata": {},
          "execution_count": 17
        }
      ]
    },
    {
      "cell_type": "code",
      "source": [
        "f= funcs.pop()\n",
        "f.generation"
      ],
      "metadata": {
        "colab": {
          "base_uri": "https://localhost:8080/"
        },
        "id": "NbANlfM9Lw0h",
        "outputId": "9ae18ff6-f60c-49da-dcc3-c033b86c82fc"
      },
      "execution_count": null,
      "outputs": [
        {
          "output_type": "execute_result",
          "data": {
            "text/plain": [
              "4"
            ]
          },
          "metadata": {},
          "execution_count": 18
        }
      ]
    },
    {
      "cell_type": "code",
      "source": [
        "def add(x0, x1):\n",
        "    return Add()(x0, x1)\n",
        "\n",
        "def square(x):\n",
        "    return Square()(x)"
      ],
      "metadata": {
        "id": "QcYEL27XSXGM"
      },
      "execution_count": null,
      "outputs": []
    },
    {
      "cell_type": "code",
      "source": [
        "x = Variable(np.array(2.0))\n",
        "a = square(x)\n",
        "y = add(square(a), square(a))\n",
        "y.backward()\n",
        "\n",
        "print(y.data)\n",
        "print(x.grad)"
      ],
      "metadata": {
        "colab": {
          "base_uri": "https://localhost:8080/"
        },
        "id": "HLIvePlCL0ab",
        "outputId": "6d718e04-d834-4aac-ac99-fa879fc0fdd9"
      },
      "execution_count": null,
      "outputs": [
        {
          "output_type": "stream",
          "name": "stdout",
          "text": [
            "32.0\n",
            "64.0\n"
          ]
        }
      ]
    },
    {
      "cell_type": "code",
      "source": [
        ""
      ],
      "metadata": {
        "id": "GUj3rbPNSPO7"
      },
      "execution_count": null,
      "outputs": []
    },
    {
      "cell_type": "markdown",
      "source": [
        "#step17 메모리관계와 순환참조"
      ],
      "metadata": {
        "id": "pGE2byZ2Va3H"
      }
    },
    {
      "cell_type": "code",
      "source": [
        "import weakref\n",
        "\n",
        "class Function:\n",
        "    def __call__(self, *inputs):\n",
        "        xs = [x.data for x in inputs]\n",
        "        ys = self.forward(*xs)\n",
        "        if not isinstance(ys, tuple):\n",
        "            ys = (ys,)\n",
        "        outputs = [Variable(as_array(y)) for y in ys]\n",
        "\n",
        "        self.generation = max([x.generation for x in inputs])\n",
        "\n",
        "        for output in outputs:\n",
        "            output.set_creator(self)\n",
        "        self.inputs = inputs\n",
        "#        self.outputs = outputs 약한참조 사용하려고 아래로 바꿈 -> Variable gys 도 변경함\n",
        "        self.outputs = [weakref.ref(output) for output in outputs]\n",
        "        \n",
        "        return outputs if len(outputs) > 1 else outputs[0]\n",
        "\n",
        "    def forward(self, xs):\n",
        "        raise NotImplementedError()\n",
        "\n",
        "    def backward(self, gys):\n",
        "        raise NotImplementedError()\n",
        "    \n",
        "\n",
        "class Square(Function):\n",
        "    def forward(self, x):\n",
        "        y = x ** 2\n",
        "        return y\n",
        "\n",
        "    def backward(self, gy):\n",
        "        x = self.inputs[0].data\n",
        "        gx = 2 * x * gy\n",
        "        return gx\n",
        "\n",
        "class Add(Function):\n",
        "    def forward(self, x0, x1):\n",
        "        y = x0 + x1\n",
        "        return y\n",
        "\n",
        "    def backward(self, gy):\n",
        "        return gy, gy"
      ],
      "metadata": {
        "id": "AaxUgagWUZO1"
      },
      "execution_count": null,
      "outputs": []
    },
    {
      "cell_type": "code",
      "source": [
        ""
      ],
      "metadata": {
        "id": "mlmTsvTNWtbb"
      },
      "execution_count": null,
      "outputs": []
    },
    {
      "cell_type": "markdown",
      "source": [
        "#step18 메모리 절약 모드 "
      ],
      "metadata": {
        "id": "vz1Px9S1YNEO"
      }
    },
    {
      "cell_type": "code",
      "source": [
        "\n",
        "class Variable:\n",
        "    def __init__(self, data):\n",
        "        if data is not None:\n",
        "            if not isinstance(data, np.ndarray):\n",
        "                raise TypeError(f'{type(data)}은 지원하지 않습니다.')\n",
        "\n",
        "        self.data = data\n",
        "        self.grad = None\n",
        "        self.creator = None\n",
        "        self.generation = 0\n",
        "    \n",
        "    def set_creator(self, func):\n",
        "        self.creator = func\n",
        "        self.generation = func.generation + 1\n",
        "    \n",
        "    def cleargrad(self):\n",
        "        self.grad = None\n",
        "# retain_grad = False 추가\n",
        "    def backward(self, retain_grad=False):\n",
        "        if self.grad is None:\n",
        "            self.grad = np.ones_like(self.data)\n",
        "\n",
        "\n",
        "\n",
        "        funcs = []\n",
        "        seen_set = set()\n",
        "\n",
        "        def add_func(f):\n",
        "            if f not in seen_set:\n",
        "                funcs.append(f)\n",
        "                seen_set.add(f)\n",
        "                funcs.sort(key = lambda x: x.generation)\n",
        "        \n",
        "        add_func(self.creator)\n",
        "\n",
        "        while funcs:\n",
        "            f = funcs.pop()\n",
        "            gys = [output().grad for output in f.outputs]\n",
        "            gxs = f.backward(*gys)\n",
        "            if not isinstance(gxs, tuple):\n",
        "                gxs = (gxs, )\n",
        "            \n",
        "            for x, gx in zip(f.inputs, gxs):\n",
        "                if x.grad is None:\n",
        "                    x.grad = gx\n",
        "                else:\n",
        "                    x.grad = x.grad + gx\n",
        "\n",
        "                if x.creator is not None:\n",
        "\n",
        "                    add_func(x.creator)\n",
        "        \n",
        "            if not retain_grad:\n",
        "                for y in f.outputs:\n",
        "                    y().grad = None"
      ],
      "metadata": {
        "id": "WL1iQkYBYPQp"
      },
      "execution_count": null,
      "outputs": []
    },
    {
      "cell_type": "code",
      "source": [
        "class Config:\n",
        "    enable_backprop = True"
      ],
      "metadata": {
        "id": "0VELUI_8aWI0"
      },
      "execution_count": null,
      "outputs": []
    },
    {
      "cell_type": "code",
      "source": [
        "class Function:\n",
        "    def __call__(self, *inputs):\n",
        "        xs = [x.data for x in inputs]\n",
        "        ys = self.forward(*xs)\n",
        "        if not isinstance(ys, tuple):\n",
        "            ys = (ys,)\n",
        "        outputs = [Variable(as_array(y)) for y in ys]\n",
        "#아래 if문 추가. 그 아래 코드는 그 안으로 들어감. \n",
        "#그래서 config.enable_backprop = True 일 때만 역전파 코드 실행\n",
        "\n",
        "        if Config.enable_backprop:\n",
        "            self.generation = max([x.generation for x in inputs])\n",
        "            for output in outputs:\n",
        "                output.set_creator(self)\n",
        "            self.inputs = inputs\n",
        "            self.outputs = [weakref.ref(output) for output in outputs]\n",
        "        \n",
        "        return outputs if len(outputs) > 1 else outputs[0]\n",
        "\n",
        "    def forward(self, xs):\n",
        "        raise NotImplementedError()\n",
        "\n",
        "    def backward(self, gys):\n",
        "        raise NotImplementedError()\n",
        "    "
      ],
      "metadata": {
        "id": "n8a0lONuav1S"
      },
      "execution_count": null,
      "outputs": []
    },
    {
      "cell_type": "code",
      "source": [
        "import contextlib\n",
        "\n",
        "@contextlib.contextmanager\n",
        "def config_test():\n",
        "    print('start') #전처리\n",
        "    try:\n",
        "        yield\n",
        "    finally:\n",
        "        print('done') #후처리\n",
        "\n",
        "with config_test():\n",
        "    print('process..')\n",
        "\n",
        "#with 문 시작 : config_test METHOD 안의 전처리 -> with문 안 -> config_test 안의 후처리"
      ],
      "metadata": {
        "colab": {
          "base_uri": "https://localhost:8080/"
        },
        "id": "P1Y8kzUdclUt",
        "outputId": "63f8f6a2-62cd-4da8-e7c2-c7cebf02d359"
      },
      "execution_count": null,
      "outputs": [
        {
          "output_type": "stream",
          "name": "stdout",
          "text": [
            "start\n",
            "process..\n",
            "done\n"
          ]
        }
      ]
    },
    {
      "cell_type": "code",
      "source": [
        "import contextlib\n",
        "\n",
        "@contextlib.contextmanager\n",
        "def using_config(name, value):\n",
        "    old_value = getattr(Config, name)\n",
        "    setattr(Config, name, value)\n",
        "    try:\n",
        "        yield\n",
        "    finally:\n",
        "        setattr(Config, name, old_value)"
      ],
      "metadata": {
        "id": "EBKLiHigcxub"
      },
      "execution_count": null,
      "outputs": []
    },
    {
      "cell_type": "code",
      "source": [
        "with using_config('enable_backprop', False):\n",
        "    x = Variable(np.array(2.0))\n",
        "    y = square(x)"
      ],
      "metadata": {
        "id": "-BUjRQ7edrkb"
      },
      "execution_count": null,
      "outputs": []
    },
    {
      "cell_type": "code",
      "source": [
        "def no_grad():\n",
        "    return using_config('enable_backprop', False)\n",
        "\n",
        "with no_grad():\n",
        "    x = Variable(np.array(2.0))\n",
        "    y = square(x)\n",
        "\n"
      ],
      "metadata": {
        "id": "gqHRWlnjd37S"
      },
      "execution_count": null,
      "outputs": []
    },
    {
      "cell_type": "markdown",
      "source": [
        "#step19 변수 사용성 개선"
      ],
      "metadata": {
        "id": "r8Z3lBSieuU1"
      }
    },
    {
      "cell_type": "code",
      "source": [
        "import numpy as np\n",
        "class Variable:\n",
        "    def __init__(self, data, name = None):\n",
        "        if data is not None:\n",
        "            if not isinstance(data, np.ndarray):\n",
        "                raise TypeError(f'{type(data)}은 지원하지 않습니다.')\n",
        "\n",
        "        self.data = data\n",
        "#add name \n",
        "        self.name = name\n",
        "        self.grad = None\n",
        "        self.creator = None\n",
        "        self.generation = 0\n",
        "    \n",
        "    def set_creator(self, func):\n",
        "        self.creator = func\n",
        "        self.generation = func.generation + 1\n",
        "    \n",
        "    def cleargrad(self):\n",
        "        self.grad = None\n",
        "# retain_grad = False 추가\n",
        "    def backward(self, retain_grad=False):\n",
        "        if self.grad is None:\n",
        "            self.grad = np.ones_like(self.data)\n",
        "        funcs = []\n",
        "        seen_set = set()\n",
        "\n",
        "        def add_func(f):\n",
        "            if f not in seen_set:\n",
        "                funcs.append(f)\n",
        "                seen_set.add(f)\n",
        "                funcs.sort(key = lambda x: x.generation)\n",
        "        \n",
        "        add_func(self.creator)\n",
        "\n",
        "        while funcs:\n",
        "            f = funcs.pop()\n",
        "            gys = [output().grad for output in f.outputs]\n",
        "            gxs = f.backward(*gys)\n",
        "            if not isinstance(gxs, tuple):\n",
        "                gxs = (gxs, )\n",
        "            \n",
        "            for x, gx in zip(f.inputs, gxs):\n",
        "                if x.grad is None:\n",
        "                    x.grad = gx\n",
        "                else:\n",
        "                    x.grad = x.grad + gx\n",
        "\n",
        "                if x.creator is not None:\n",
        "\n",
        "                    add_func(x.creator)\n",
        "        \n",
        "            if not retain_grad:\n",
        "                for y in f.outputs:\n",
        "                    y().grad = None\n",
        "\n",
        "    @property\n",
        "    def shape(self):\n",
        "        return self.data.shape\n",
        "\n",
        "    @property\n",
        "    def size(self):\n",
        "        return self.data.size\n",
        "    \n",
        "    @property\n",
        "    def dtype(self):\n",
        "        return self.data.dtype\n",
        "\n",
        "    def __len__(self):\n",
        "        return len(self.data)\n",
        "    \n",
        "    def __repr__(self):\n",
        "        if self.data is None:\n",
        "            return 'variable(None)'\n",
        "        p = str(self.data).replace('\\n', '\\n' + '' * 9)\n",
        "        return 'variable(' + p + ')'\n"
      ],
      "metadata": {
        "id": "aAuCI_EYetH4"
      },
      "execution_count": null,
      "outputs": []
    },
    {
      "cell_type": "code",
      "source": [
        "x = Variable(np.array([[1,2,3], [4,5,6]]))\n",
        "print(x.shape)\n",
        "print(x.size)\n",
        "print(x.dtype)\n",
        "print(len(x))"
      ],
      "metadata": {
        "colab": {
          "base_uri": "https://localhost:8080/"
        },
        "id": "Prqenh9wfNs9",
        "outputId": "ce9d5018-5e77-4367-8620-d7f05ed4f9d8"
      },
      "execution_count": null,
      "outputs": [
        {
          "output_type": "stream",
          "name": "stdout",
          "text": [
            "(2, 3)\n",
            "6\n",
            "int64\n",
            "2\n"
          ]
        }
      ]
    },
    {
      "cell_type": "code",
      "source": [
        "x = Variable(np.array([1,2,3]))\n",
        "print(x)\n",
        "#<__main__.Variable object at 0x7f009be023d0>\n"
      ],
      "metadata": {
        "colab": {
          "base_uri": "https://localhost:8080/"
        },
        "id": "YFRHsMqUfSd1",
        "outputId": "764ee0e0-ead2-490c-9b55-f118a1963b75"
      },
      "execution_count": null,
      "outputs": [
        {
          "output_type": "stream",
          "name": "stdout",
          "text": [
            "variable([1 2 3])\n"
          ]
        }
      ]
    },
    {
      "cell_type": "code",
      "source": [
        "x = Variable(None)\n",
        "print(x)\n",
        "#<__main__.Variable object at 0x7f009be5c990>"
      ],
      "metadata": {
        "colab": {
          "base_uri": "https://localhost:8080/"
        },
        "id": "dul1oI_tf78M",
        "outputId": "63d5ff3c-07a0-41b8-eeb2-af43e1843025"
      },
      "execution_count": null,
      "outputs": [
        {
          "output_type": "stream",
          "name": "stdout",
          "text": [
            "variable(None)\n"
          ]
        }
      ]
    },
    {
      "cell_type": "code",
      "source": [
        "x = Variable(np.array([[1,2,3], [4,5,6]]))\n",
        "print(x)\n",
        "#<__main__.Variable object at 0x7f009be826d0>"
      ],
      "metadata": {
        "colab": {
          "base_uri": "https://localhost:8080/"
        },
        "id": "zdtbqJr1f96x",
        "outputId": "b2fa3fde-ccc8-4e2a-874b-1d3ff7f855cf"
      },
      "execution_count": null,
      "outputs": [
        {
          "output_type": "stream",
          "name": "stdout",
          "text": [
            "variable([[1 2 3]\n",
            " [4 5 6]])\n"
          ]
        }
      ]
    },
    {
      "cell_type": "code",
      "source": [
        ""
      ],
      "metadata": {
        "id": "m_r8X5WNgE9H"
      },
      "execution_count": null,
      "outputs": []
    },
    {
      "cell_type": "markdown",
      "source": [
        "#step20 연산자 오버로드\n"
      ],
      "metadata": {
        "id": "Oz9_1UvLhoho"
      }
    },
    {
      "cell_type": "code",
      "source": [
        "class Mul(Function):\n",
        "    def forward(self, x0, x1):\n",
        "        y = x0 * x1\n",
        "        return y\n",
        "    \n",
        "    def backward(self, gy):\n",
        "        x0, x1 = self.inputs[0].data, self.inputs[1].data\n",
        "        return gy * x1, gy * x0\n",
        "\n",
        "def mul(x0, x1):\n",
        "    return Mul()(x0, x1)"
      ],
      "metadata": {
        "id": "Kw1dHgS6hqoL"
      },
      "execution_count": null,
      "outputs": []
    },
    {
      "cell_type": "code",
      "source": [
        "a = Variable(np.array(3.0))\n",
        "b = Variable(np.array(2.0))\n",
        "c = Variable(np.array(1.0))\n",
        "\n",
        "y = add(mul(a,b), c)\n",
        "\n",
        "y.backward()"
      ],
      "metadata": {
        "id": "O37JTuCsiG0i"
      },
      "execution_count": null,
      "outputs": []
    },
    {
      "cell_type": "code",
      "source": [
        "print(y)\n",
        "print(a.grad)\n",
        "print(b.grad)"
      ],
      "metadata": {
        "colab": {
          "base_uri": "https://localhost:8080/"
        },
        "id": "bs2DM_TkiOEu",
        "outputId": "5a3fc853-71ee-4848-b976-cec496c00584"
      },
      "execution_count": null,
      "outputs": [
        {
          "output_type": "stream",
          "name": "stdout",
          "text": [
            "variable(7.0)\n",
            "2.0\n",
            "3.0\n"
          ]
        }
      ]
    },
    {
      "cell_type": "code",
      "source": [
        "\n",
        "class Variable:\n",
        "    __array_priority__ = 200\n",
        "    def __init__(self, data, name = None):\n",
        "        if data is not None:\n",
        "            if not isinstance(data, np.ndarray):\n",
        "                raise TypeError(f'{type(data)}은 지원하지 않습니다.')\n",
        "\n",
        "        self.data = data\n",
        "#add name \n",
        "        self.name = name\n",
        "        self.grad = None\n",
        "        self.creator = None\n",
        "        self.generation = 0\n",
        "    \n",
        "    def set_creator(self, func):\n",
        "        self.creator = func\n",
        "        self.generation = func.generation + 1\n",
        "    \n",
        "    def cleargrad(self):\n",
        "        self.grad = None\n",
        "# retain_grad = False 추가\n",
        "    def backward(self, retain_grad=False):\n",
        "        if self.grad is None:\n",
        "            self.grad = np.ones_like(self.data)\n",
        "        funcs = []\n",
        "        seen_set = set()\n",
        "\n",
        "        def add_func(f):\n",
        "            if f not in seen_set:\n",
        "                funcs.append(f)\n",
        "                seen_set.add(f)\n",
        "                funcs.sort(key = lambda x: x.generation)\n",
        "        \n",
        "        add_func(self.creator)\n",
        "\n",
        "        while funcs:\n",
        "            f = funcs.pop()\n",
        "            gys = [output().grad for output in f.outputs]\n",
        "            gxs = f.backward(*gys)\n",
        "            if not isinstance(gxs, tuple):\n",
        "                gxs = (gxs, )\n",
        "            \n",
        "            for x, gx in zip(f.inputs, gxs):\n",
        "                if x.grad is None:\n",
        "                    x.grad = gx\n",
        "                else:\n",
        "                    x.grad = x.grad + gx\n",
        "\n",
        "                if x.creator is not None:\n",
        "\n",
        "                    add_func(x.creator)\n",
        "        \n",
        "            if not retain_grad:\n",
        "                for y in f.outputs:\n",
        "                    y().grad = None\n",
        "\n",
        "    @property\n",
        "    def shape(self):\n",
        "        return self.data.shape\n",
        "\n",
        "    @property\n",
        "    def size(self):\n",
        "        return self.data.size\n",
        "    \n",
        "    @property\n",
        "    def dtype(self):\n",
        "        return self.data.dtype\n",
        "\n",
        "    def __len__(self):\n",
        "        return len(self.data)\n",
        "    \n",
        "    def __repr__(self):\n",
        "        if self.data is None:\n",
        "            return 'variable(None)'\n",
        "        p = str(self.data).replace('\\n', '\\n' + '' * 9)\n",
        "        return 'variable(' + p + ')'\n",
        "    \n",
        "    def __mul__(self, other):\n",
        "        return mul(self, other)\n",
        "\n",
        "Variable.__mul__ = mul\n",
        "Variable.__add__ = add\n",
        "\n",
        "Variable.__radd__ = add\n",
        "Variable.__rmul__ = mul"
      ],
      "metadata": {
        "id": "2XASJ3c7iQ7P"
      },
      "execution_count": null,
      "outputs": []
    },
    {
      "cell_type": "code",
      "source": [
        "def as_variable(obj):\n",
        "    if isinstance(obj, Variable):\n",
        "        return obj\n",
        "    return Variable(obj)"
      ],
      "metadata": {
        "id": "gnbygoZlM3nn"
      },
      "execution_count": null,
      "outputs": []
    },
    {
      "cell_type": "code",
      "source": [
        "class Function:\n",
        "    def __call__(self, *inputs):\n",
        "        #as_variable 함수 사용해서 inputs를 Variable 인스턴스로 바꿔줌 \n",
        "        inputs = [as_variable(x) for x in inputs]\n",
        "        xs = [x.data for x in inputs]\n",
        "        ys = self.forward(*xs)\n",
        "        if not isinstance(ys, tuple):\n",
        "            ys = (ys,)\n",
        "        outputs = [Variable(as_array(y)) for y in ys]\n",
        "\n",
        "        if Config.enable_backprop:\n",
        "            self.generation = max([x.generation for x in inputs])\n",
        "            for output in outputs:\n",
        "                output.set_creator(self)\n",
        "            self.inputs = inputs\n",
        "            self.outputs = [weakref.ref(output) for output in outputs]\n",
        "        \n",
        "        return outputs if len(outputs) > 1 else outputs[0]\n",
        "\n",
        "    def forward(self, xs):\n",
        "        raise NotImplementedError()\n",
        "\n",
        "    def backward(self, gys):\n",
        "        raise NotImplementedError()\n",
        "    "
      ],
      "metadata": {
        "id": "-UjGlkTsNzzU"
      },
      "execution_count": null,
      "outputs": []
    },
    {
      "cell_type": "code",
      "source": [
        "class Neg(Function):\n",
        "    def forward(self, x):\n",
        "        return -x\n",
        "\n",
        "    def backward(self, gy):\n",
        "        return -gy\n",
        "\n",
        "def neg(x):\n",
        "    return Neg()(x)\n",
        "\n",
        "Variable.__neg__ = neg\n",
        "\n",
        "x = Variable(np.array(2.0))\n",
        "y = -x \n",
        "print(y)"
      ],
      "metadata": {
        "colab": {
          "base_uri": "https://localhost:8080/"
        },
        "id": "u_HKWKUGOMv9",
        "outputId": "3f921280-de0f-42b9-ed01-56ee6ef3b3c2"
      },
      "execution_count": null,
      "outputs": [
        {
          "output_type": "stream",
          "name": "stdout",
          "text": [
            "variable(-2.0)\n"
          ]
        }
      ]
    },
    {
      "cell_type": "code",
      "source": [
        "class Sub(Function):\n",
        "    def forward(self, x0, x1):\n",
        "        y = x0 - x1\n",
        "        return y\n",
        "\n",
        "    def backward(self, gy):\n",
        "        return gy, -gy\n",
        "\n",
        "def sub(x0, x1):\n",
        "    x1 = as_array(x1)\n",
        "    return Sub()(x0, x1)\n",
        "\n",
        "Variable.__sub__ = sub"
      ],
      "metadata": {
        "id": "7FV6E1RCRH0h"
      },
      "execution_count": null,
      "outputs": []
    },
    {
      "cell_type": "code",
      "source": [
        "def rsub(x0, x1):\n",
        "    x1 = as_array(x1)\n",
        "    return Sub()(x1, x0)\n",
        "\n",
        "Variable.__rsub__ = rsub"
      ],
      "metadata": {
        "id": "kXHG30qsRcHk"
      },
      "execution_count": null,
      "outputs": []
    },
    {
      "cell_type": "code",
      "source": [
        "x = Variable(np.array(2.0))\n",
        "y1 = 2.0 - x\n",
        "y2 = x - 1.0\n",
        "print(y1)\n",
        "print(y2)"
      ],
      "metadata": {
        "colab": {
          "base_uri": "https://localhost:8080/"
        },
        "id": "vJS5Ev8bRmvr",
        "outputId": "f19a337e-7487-488f-d915-0ecb8d3130b0"
      },
      "execution_count": null,
      "outputs": [
        {
          "output_type": "stream",
          "name": "stdout",
          "text": [
            "variable(0.0)\n",
            "variable(1.0)\n"
          ]
        }
      ]
    },
    {
      "cell_type": "code",
      "source": [
        "class Div(Function):\n",
        "    def forward(self, x0, x1):\n",
        "        y = x0 / x1\n",
        "        return y\n",
        "    \n",
        "    def backward(self, gy):\n",
        "        x0, x1 = self.inputs[0].data, self.inputs[1].data\n",
        "        gx0 = gy / x1\n",
        "        gx1 = gy * (-x0 / x1 ** 2)\n",
        "        return gx0, gx1\n",
        "    \n",
        "def div(x0, x1):\n",
        "    x1 = as_array(x1)\n",
        "    return Div()(x0, x1)\n",
        "\n",
        "def rdiv(x0, x1):\n",
        "    x1 = as_array(x1)\n",
        "    return Div()(x1, x0)\n",
        "\n",
        "\n",
        "Variable.__truediv__ = div\n",
        "Variable.__rtruediv__ = rdiv\n"
      ],
      "metadata": {
        "id": "sU0jRKoIRyv0"
      },
      "execution_count": null,
      "outputs": []
    },
    {
      "cell_type": "code",
      "source": [
        "class Pow(Function):\n",
        "    def __init__(self, c):\n",
        "        self.c = c\n",
        "\n",
        "    def forward(self, x):\n",
        "        y = x ** self.c\n",
        "        return y\n",
        "    \n",
        "    def backward(self, gy):\n",
        "        x = self.inputs[0].data\n",
        "        c = self.c\n",
        "        gx = c * x ** (c - 1) * gy\n",
        "        return gx\n",
        "\n",
        "def pow(x, c):\n",
        "    return Pow(c)(x)\n",
        "\n",
        "Variable.__pow__ = pow\n"
      ],
      "metadata": {
        "id": "X_0OZlNDSkXK"
      },
      "execution_count": null,
      "outputs": []
    },
    {
      "cell_type": "code",
      "source": [
        "x = Variable(np.array(2.0))\n",
        "y = x ** 3\n",
        "print(y)"
      ],
      "metadata": {
        "colab": {
          "base_uri": "https://localhost:8080/"
        },
        "id": "6XCADbseTEQk",
        "outputId": "baf565d5-afc2-487b-ee91-55f7f4ce12be"
      },
      "execution_count": null,
      "outputs": [
        {
          "output_type": "stream",
          "name": "stdout",
          "text": [
            "variable(8.0)\n"
          ]
        }
      ]
    },
    {
      "cell_type": "code",
      "source": [
        "print(pow(np.array(2.0), np.array(3.0) ))"
      ],
      "metadata": {
        "colab": {
          "base_uri": "https://localhost:8080/"
        },
        "id": "hbT6P4EsTjDX",
        "outputId": "e67bc728-ac2c-47d3-90fb-9ce621e0d420"
      },
      "execution_count": null,
      "outputs": [
        {
          "output_type": "stream",
          "name": "stdout",
          "text": [
            "variable(8.0)\n"
          ]
        }
      ]
    },
    {
      "cell_type": "code",
      "source": [
        "#위랑 차이\n",
        "print(pow(2.0, 3.0))"
      ],
      "metadata": {
        "colab": {
          "base_uri": "https://localhost:8080/",
          "height": 328
        },
        "id": "XFvQPRxCTpQo",
        "outputId": "e9024d6b-709c-4f0e-88c5-054c1b863a59"
      },
      "execution_count": null,
      "outputs": [
        {
          "output_type": "error",
          "ename": "TypeError",
          "evalue": "ignored",
          "traceback": [
            "\u001b[0;31m---------------------------------------------------------------------------\u001b[0m",
            "\u001b[0;31mTypeError\u001b[0m                                 Traceback (most recent call last)",
            "\u001b[0;32m<ipython-input-48-e6162ba60485>\u001b[0m in \u001b[0;36m<module>\u001b[0;34m()\u001b[0m\n\u001b[1;32m      1\u001b[0m \u001b[0;31m#위랑 차이\u001b[0m\u001b[0;34m\u001b[0m\u001b[0;34m\u001b[0m\u001b[0;34m\u001b[0m\u001b[0m\n\u001b[0;32m----> 2\u001b[0;31m \u001b[0mprint\u001b[0m\u001b[0;34m(\u001b[0m\u001b[0mpow\u001b[0m\u001b[0;34m(\u001b[0m\u001b[0;36m2.0\u001b[0m\u001b[0;34m,\u001b[0m \u001b[0;36m3.0\u001b[0m\u001b[0;34m)\u001b[0m\u001b[0;34m)\u001b[0m\u001b[0;34m\u001b[0m\u001b[0;34m\u001b[0m\u001b[0m\n\u001b[0m",
            "\u001b[0;32m<ipython-input-45-0c35d9748b42>\u001b[0m in \u001b[0;36mpow\u001b[0;34m(x, c)\u001b[0m\n\u001b[1;32m     14\u001b[0m \u001b[0;34m\u001b[0m\u001b[0m\n\u001b[1;32m     15\u001b[0m \u001b[0;32mdef\u001b[0m \u001b[0mpow\u001b[0m\u001b[0;34m(\u001b[0m\u001b[0mx\u001b[0m\u001b[0;34m,\u001b[0m \u001b[0mc\u001b[0m\u001b[0;34m)\u001b[0m\u001b[0;34m:\u001b[0m\u001b[0;34m\u001b[0m\u001b[0;34m\u001b[0m\u001b[0m\n\u001b[0;32m---> 16\u001b[0;31m     \u001b[0;32mreturn\u001b[0m \u001b[0mPow\u001b[0m\u001b[0;34m(\u001b[0m\u001b[0mc\u001b[0m\u001b[0;34m)\u001b[0m\u001b[0;34m(\u001b[0m\u001b[0mx\u001b[0m\u001b[0;34m)\u001b[0m\u001b[0;34m\u001b[0m\u001b[0;34m\u001b[0m\u001b[0m\n\u001b[0m\u001b[1;32m     17\u001b[0m \u001b[0;34m\u001b[0m\u001b[0m\n\u001b[1;32m     18\u001b[0m \u001b[0mVariable\u001b[0m\u001b[0;34m.\u001b[0m\u001b[0m__pow__\u001b[0m \u001b[0;34m=\u001b[0m \u001b[0mpow\u001b[0m\u001b[0;34m\u001b[0m\u001b[0;34m\u001b[0m\u001b[0m\n",
            "\u001b[0;32m<ipython-input-39-e9a19c7ba2e5>\u001b[0m in \u001b[0;36m__call__\u001b[0;34m(self, *inputs)\u001b[0m\n\u001b[1;32m      2\u001b[0m     \u001b[0;32mdef\u001b[0m \u001b[0m__call__\u001b[0m\u001b[0;34m(\u001b[0m\u001b[0mself\u001b[0m\u001b[0;34m,\u001b[0m \u001b[0;34m*\u001b[0m\u001b[0minputs\u001b[0m\u001b[0;34m)\u001b[0m\u001b[0;34m:\u001b[0m\u001b[0;34m\u001b[0m\u001b[0;34m\u001b[0m\u001b[0m\n\u001b[1;32m      3\u001b[0m         \u001b[0;31m#as_variable 함수 사용해서 inputs를 Variable 인스턴스로 바꿔줌\u001b[0m\u001b[0;34m\u001b[0m\u001b[0;34m\u001b[0m\u001b[0;34m\u001b[0m\u001b[0m\n\u001b[0;32m----> 4\u001b[0;31m         \u001b[0minputs\u001b[0m \u001b[0;34m=\u001b[0m \u001b[0;34m[\u001b[0m\u001b[0mas_variable\u001b[0m\u001b[0;34m(\u001b[0m\u001b[0mx\u001b[0m\u001b[0;34m)\u001b[0m \u001b[0;32mfor\u001b[0m \u001b[0mx\u001b[0m \u001b[0;32min\u001b[0m \u001b[0minputs\u001b[0m\u001b[0;34m]\u001b[0m\u001b[0;34m\u001b[0m\u001b[0;34m\u001b[0m\u001b[0m\n\u001b[0m\u001b[1;32m      5\u001b[0m         \u001b[0mxs\u001b[0m \u001b[0;34m=\u001b[0m \u001b[0;34m[\u001b[0m\u001b[0mx\u001b[0m\u001b[0;34m.\u001b[0m\u001b[0mdata\u001b[0m \u001b[0;32mfor\u001b[0m \u001b[0mx\u001b[0m \u001b[0;32min\u001b[0m \u001b[0minputs\u001b[0m\u001b[0;34m]\u001b[0m\u001b[0;34m\u001b[0m\u001b[0;34m\u001b[0m\u001b[0m\n\u001b[1;32m      6\u001b[0m         \u001b[0mys\u001b[0m \u001b[0;34m=\u001b[0m \u001b[0mself\u001b[0m\u001b[0;34m.\u001b[0m\u001b[0mforward\u001b[0m\u001b[0;34m(\u001b[0m\u001b[0;34m*\u001b[0m\u001b[0mxs\u001b[0m\u001b[0;34m)\u001b[0m\u001b[0;34m\u001b[0m\u001b[0;34m\u001b[0m\u001b[0m\n",
            "\u001b[0;32m<ipython-input-39-e9a19c7ba2e5>\u001b[0m in \u001b[0;36m<listcomp>\u001b[0;34m(.0)\u001b[0m\n\u001b[1;32m      2\u001b[0m     \u001b[0;32mdef\u001b[0m \u001b[0m__call__\u001b[0m\u001b[0;34m(\u001b[0m\u001b[0mself\u001b[0m\u001b[0;34m,\u001b[0m \u001b[0;34m*\u001b[0m\u001b[0minputs\u001b[0m\u001b[0;34m)\u001b[0m\u001b[0;34m:\u001b[0m\u001b[0;34m\u001b[0m\u001b[0;34m\u001b[0m\u001b[0m\n\u001b[1;32m      3\u001b[0m         \u001b[0;31m#as_variable 함수 사용해서 inputs를 Variable 인스턴스로 바꿔줌\u001b[0m\u001b[0;34m\u001b[0m\u001b[0;34m\u001b[0m\u001b[0;34m\u001b[0m\u001b[0m\n\u001b[0;32m----> 4\u001b[0;31m         \u001b[0minputs\u001b[0m \u001b[0;34m=\u001b[0m \u001b[0;34m[\u001b[0m\u001b[0mas_variable\u001b[0m\u001b[0;34m(\u001b[0m\u001b[0mx\u001b[0m\u001b[0;34m)\u001b[0m \u001b[0;32mfor\u001b[0m \u001b[0mx\u001b[0m \u001b[0;32min\u001b[0m \u001b[0minputs\u001b[0m\u001b[0;34m]\u001b[0m\u001b[0;34m\u001b[0m\u001b[0;34m\u001b[0m\u001b[0m\n\u001b[0m\u001b[1;32m      5\u001b[0m         \u001b[0mxs\u001b[0m \u001b[0;34m=\u001b[0m \u001b[0;34m[\u001b[0m\u001b[0mx\u001b[0m\u001b[0;34m.\u001b[0m\u001b[0mdata\u001b[0m \u001b[0;32mfor\u001b[0m \u001b[0mx\u001b[0m \u001b[0;32min\u001b[0m \u001b[0minputs\u001b[0m\u001b[0;34m]\u001b[0m\u001b[0;34m\u001b[0m\u001b[0;34m\u001b[0m\u001b[0m\n\u001b[1;32m      6\u001b[0m         \u001b[0mys\u001b[0m \u001b[0;34m=\u001b[0m \u001b[0mself\u001b[0m\u001b[0;34m.\u001b[0m\u001b[0mforward\u001b[0m\u001b[0;34m(\u001b[0m\u001b[0;34m*\u001b[0m\u001b[0mxs\u001b[0m\u001b[0;34m)\u001b[0m\u001b[0;34m\u001b[0m\u001b[0;34m\u001b[0m\u001b[0m\n",
            "\u001b[0;32m<ipython-input-38-5abecc08aba4>\u001b[0m in \u001b[0;36mas_variable\u001b[0;34m(obj)\u001b[0m\n\u001b[1;32m      2\u001b[0m     \u001b[0;32mif\u001b[0m \u001b[0misinstance\u001b[0m\u001b[0;34m(\u001b[0m\u001b[0mobj\u001b[0m\u001b[0;34m,\u001b[0m \u001b[0mVariable\u001b[0m\u001b[0;34m)\u001b[0m\u001b[0;34m:\u001b[0m\u001b[0;34m\u001b[0m\u001b[0;34m\u001b[0m\u001b[0m\n\u001b[1;32m      3\u001b[0m         \u001b[0;32mreturn\u001b[0m \u001b[0mobj\u001b[0m\u001b[0;34m\u001b[0m\u001b[0;34m\u001b[0m\u001b[0m\n\u001b[0;32m----> 4\u001b[0;31m     \u001b[0;32mreturn\u001b[0m \u001b[0mVariable\u001b[0m\u001b[0;34m(\u001b[0m\u001b[0mobj\u001b[0m\u001b[0;34m)\u001b[0m\u001b[0;34m\u001b[0m\u001b[0;34m\u001b[0m\u001b[0m\n\u001b[0m",
            "\u001b[0;32m<ipython-input-37-c92211172015>\u001b[0m in \u001b[0;36m__init__\u001b[0;34m(self, data, name)\u001b[0m\n\u001b[1;32m      5\u001b[0m         \u001b[0;32mif\u001b[0m \u001b[0mdata\u001b[0m \u001b[0;32mis\u001b[0m \u001b[0;32mnot\u001b[0m \u001b[0;32mNone\u001b[0m\u001b[0;34m:\u001b[0m\u001b[0;34m\u001b[0m\u001b[0;34m\u001b[0m\u001b[0m\n\u001b[1;32m      6\u001b[0m             \u001b[0;32mif\u001b[0m \u001b[0;32mnot\u001b[0m \u001b[0misinstance\u001b[0m\u001b[0;34m(\u001b[0m\u001b[0mdata\u001b[0m\u001b[0;34m,\u001b[0m \u001b[0mnp\u001b[0m\u001b[0;34m.\u001b[0m\u001b[0mndarray\u001b[0m\u001b[0;34m)\u001b[0m\u001b[0;34m:\u001b[0m\u001b[0;34m\u001b[0m\u001b[0;34m\u001b[0m\u001b[0m\n\u001b[0;32m----> 7\u001b[0;31m                 \u001b[0;32mraise\u001b[0m \u001b[0mTypeError\u001b[0m\u001b[0;34m(\u001b[0m\u001b[0;34mf'{type(data)}은 지원하지 않습니다.'\u001b[0m\u001b[0;34m)\u001b[0m\u001b[0;34m\u001b[0m\u001b[0;34m\u001b[0m\u001b[0m\n\u001b[0m\u001b[1;32m      8\u001b[0m \u001b[0;34m\u001b[0m\u001b[0m\n\u001b[1;32m      9\u001b[0m         \u001b[0mself\u001b[0m\u001b[0;34m.\u001b[0m\u001b[0mdata\u001b[0m \u001b[0;34m=\u001b[0m \u001b[0mdata\u001b[0m\u001b[0;34m\u001b[0m\u001b[0;34m\u001b[0m\u001b[0m\n",
            "\u001b[0;31mTypeError\u001b[0m: <class 'float'>은 지원하지 않습니다."
          ]
        }
      ]
    },
    {
      "cell_type": "code",
      "source": [
        "x = Variable(np.array(1.0))\n",
        "y = (x + 3) ** 2\n",
        "y.backward()\n",
        "\n",
        "print(y)\n",
        "print(x.grad)"
      ],
      "metadata": {
        "colab": {
          "base_uri": "https://localhost:8080/",
          "height": 235
        },
        "id": "Gklv7rIPT3V8",
        "outputId": "9866a9c5-8425-43cd-ea02-5365d20e5f69"
      },
      "execution_count": null,
      "outputs": [
        {
          "output_type": "error",
          "ename": "TypeError",
          "evalue": "ignored",
          "traceback": [
            "\u001b[0;31m---------------------------------------------------------------------------\u001b[0m",
            "\u001b[0;31mTypeError\u001b[0m                                 Traceback (most recent call last)",
            "\u001b[0;32m<ipython-input-61-191e19f692c9>\u001b[0m in \u001b[0;36m<module>\u001b[0;34m()\u001b[0m\n\u001b[1;32m      1\u001b[0m \u001b[0mx\u001b[0m \u001b[0;34m=\u001b[0m \u001b[0mVariable\u001b[0m\u001b[0;34m(\u001b[0m\u001b[0mnp\u001b[0m\u001b[0;34m.\u001b[0m\u001b[0marray\u001b[0m\u001b[0;34m(\u001b[0m\u001b[0;36m1.0\u001b[0m\u001b[0;34m)\u001b[0m\u001b[0;34m)\u001b[0m\u001b[0;34m\u001b[0m\u001b[0;34m\u001b[0m\u001b[0m\n\u001b[0;32m----> 2\u001b[0;31m \u001b[0my\u001b[0m \u001b[0;34m=\u001b[0m \u001b[0;34m(\u001b[0m\u001b[0mx\u001b[0m \u001b[0;34m+\u001b[0m \u001b[0;36m3\u001b[0m\u001b[0;34m)\u001b[0m \u001b[0;34m**\u001b[0m \u001b[0;36m2\u001b[0m\u001b[0;34m\u001b[0m\u001b[0;34m\u001b[0m\u001b[0m\n\u001b[0m\u001b[1;32m      3\u001b[0m \u001b[0my\u001b[0m\u001b[0;34m.\u001b[0m\u001b[0mbackward\u001b[0m\u001b[0;34m(\u001b[0m\u001b[0;34m)\u001b[0m\u001b[0;34m\u001b[0m\u001b[0;34m\u001b[0m\u001b[0m\n\u001b[1;32m      4\u001b[0m \u001b[0;34m\u001b[0m\u001b[0m\n\u001b[1;32m      5\u001b[0m \u001b[0mprint\u001b[0m\u001b[0;34m(\u001b[0m\u001b[0my\u001b[0m\u001b[0;34m)\u001b[0m\u001b[0;34m\u001b[0m\u001b[0;34m\u001b[0m\u001b[0m\n",
            "\u001b[0;31mTypeError\u001b[0m: unsupported operand type(s) for +: 'Variable' and 'int'"
          ]
        }
      ]
    },
    {
      "cell_type": "markdown",
      "source": [
        "#step24"
      ],
      "metadata": {
        "id": "TzlfYaUSmhau"
      }
    },
    {
      "cell_type": "code",
      "source": [
        "class Variable:\n",
        "    __array_priority__ = 200\n",
        "\n",
        "    def __init__(self, data, name=None):\n",
        "        if data is not None:\n",
        "            if not isinstance(data, np.ndarray):\n",
        "                raise TypeError('{} is not supported'.format(type(data)))\n",
        "\n",
        "        self.data = data\n",
        "        self.name = name\n",
        "        self.grad = None\n",
        "        self.creator = None\n",
        "        self.generation = 0\n",
        "\n",
        "    @property\n",
        "    def shape(self):\n",
        "        return self.data.shape\n",
        "\n",
        "    @property\n",
        "    def ndim(self):\n",
        "        return self.data.ndim\n",
        "\n",
        "    @property\n",
        "    def size(self):\n",
        "        return self.data.size\n",
        "\n",
        "    @property\n",
        "    def dtype(self):\n",
        "        return self.data.dtype\n",
        "\n",
        "    def __len__(self):\n",
        "        return len(self.data)\n",
        "\n",
        "    def __repr__(self):\n",
        "        if self.data is None:\n",
        "            return 'variable(None)'\n",
        "        p = str(self.data).replace('\\n', '\\n' + ' ' * 9)\n",
        "        return 'variable(' + p + ')'\n",
        "\n",
        "    def set_creator(self, func):\n",
        "        self.creator = func\n",
        "        self.generation = func.generation + 1\n",
        "\n",
        "    def cleargrad(self):\n",
        "        self.grad = None\n",
        "\n",
        "    def backward(self, retain_grad=False):\n",
        "        if self.grad is None:\n",
        "            self.grad = np.ones_like(self.data)\n",
        "\n",
        "        funcs = []\n",
        "        seen_set = set()\n",
        "\n",
        "        def add_func(f):\n",
        "            if f not in seen_set:\n",
        "                funcs.append(f)\n",
        "                seen_set.add(f)\n",
        "                funcs.sort(key=lambda x: x.generation)\n",
        "\n",
        "        add_func(self.creator)\n",
        "\n",
        "        while funcs:\n",
        "            f = funcs.pop()\n",
        "            gys = [output().grad for output in f.outputs]  # output is weakref\n",
        "            gxs = f.backward(*gys)\n",
        "            if not isinstance(gxs, tuple):\n",
        "                gxs = (gxs,)\n",
        "\n",
        "            for x, gx in zip(f.inputs, gxs):\n",
        "                if x.grad is None:\n",
        "                    x.grad = gx\n",
        "                else:\n",
        "                    x.grad = x.grad + gx\n",
        "\n",
        "                if x.creator is not None:\n",
        "                    add_func(x.creator)\n",
        "\n",
        "            if not retain_grad:\n",
        "                for y in f.outputs:\n",
        "                    y().grad = None  # y is weakref\n",
        "\n",
        "\n",
        "def as_variable(obj):\n",
        "    if isinstance(obj, Variable):\n",
        "        return obj\n",
        "    return Variable(obj)\n",
        "\n",
        "\n",
        "def as_array(x):\n",
        "    if np.isscalar(x):\n",
        "        return np.array(x)\n",
        "    return x\n",
        "\n",
        "\n",
        "class Function:\n",
        "    def __call__(self, *inputs):\n",
        "        inputs = [as_variable(x) for x in inputs]\n",
        "\n",
        "        xs = [x.data for x in inputs]\n",
        "        ys = self.forward(*xs)\n",
        "        if not isinstance(ys, tuple):\n",
        "            ys = (ys,)\n",
        "        outputs = [Variable(as_array(y)) for y in ys]\n",
        "\n",
        "        if Config.enable_backprop:\n",
        "            self.generation = max([x.generation for x in inputs])\n",
        "            for output in outputs:\n",
        "                output.set_creator(self)\n",
        "            self.inputs = inputs\n",
        "            self.outputs = [weakref.ref(output) for output in outputs]\n",
        "\n",
        "        return outputs if len(outputs) > 1 else outputs[0]\n",
        "\n",
        "    def forward(self, xs):\n",
        "        raise NotImplementedError()\n",
        "\n",
        "    def backward(self, gys):\n",
        "        raise NotImplementedError()\n"
      ],
      "metadata": {
        "id": "cViMfqpEmkHF"
      },
      "execution_count": null,
      "outputs": []
    },
    {
      "cell_type": "code",
      "source": [
        "class Pow(Function):\n",
        "    def __init__(self, c):\n",
        "        self.c = c\n",
        "\n",
        "    def forward(self, x):\n",
        "        y = x ** self.c\n",
        "        return y\n",
        "\n",
        "    def backward(self, gy):\n",
        "        x = self.inputs[0].data\n",
        "        c = self.c\n",
        "\n",
        "        gx = c * x ** (c - 1) * gy\n",
        "        return gx\n",
        "\n",
        "\n",
        "def pow(x, c):\n",
        "    return Pow(c)(x)\n",
        "\n",
        "Variable.__pow__ = pow\n",
        "\n",
        "class Add(Function):\n",
        "    def forward(self, x0, x1):\n",
        "        y = x0 + x1\n",
        "        return y\n",
        "\n",
        "    def backward(self, gy):\n",
        "        return gy, gy\n",
        "\n",
        "\n",
        "def add(x0, x1):\n",
        "    x1 = as_array(x1)\n",
        "    return Add()(x0, x1)\n",
        "\n",
        "Variable.__add__ = add\n",
        "Variable.__radd__ = add\n",
        "Variable.__mul__ = mul\n",
        "Variable.__rmul__ = mul\n",
        "Variable.__neg__ = neg\n",
        "Variable.__sub__ = sub\n",
        "Variable.__rsub__ = rsub\n",
        "Variable.__truediv__ = div\n",
        "Variable.__rtruediv__ = rdiv\n",
        "Variable.__pow__ = pow"
      ],
      "metadata": {
        "id": "poIRlxngnLtb"
      },
      "execution_count": null,
      "outputs": []
    },
    {
      "cell_type": "code",
      "source": [
        "def sphere(x, y):\n",
        "    z = x ** 2 + y ** 2\n",
        "    return z\n",
        "\n",
        "\n",
        "def matyas(x, y):\n",
        "    z = 0.26 * (x ** 2 + y ** 2) - 0.48 * x * y\n",
        "    return z\n",
        "\n",
        "\n",
        "def goldstein(x, y):\n",
        "    z = (1 + (x + y + 1)**2 * (19 - 14*x + 3*x**2 - 14*y + 6*x*y + 3*y**2)) * \\\n",
        "        (30 + (2*x - 3*y)**2 * (18 - 32*x + 12*x**2 + 48*y - 36*x*y + 27*y**2))\n",
        "    return z\n",
        "\n",
        "\n",
        "x = Variable(np.array(1.0))\n",
        "y = Variable(np.array(1.0))\n",
        "z = goldstein(x, y)  # sphere(x, y) / matyas(x, y)\n",
        "z.backward()\n",
        "print(x.grad, y.grad)"
      ],
      "metadata": {
        "colab": {
          "base_uri": "https://localhost:8080/"
        },
        "id": "MiubKRGpmjER",
        "outputId": "0095e946-c156-449b-8df4-622624ae24ff"
      },
      "execution_count": null,
      "outputs": [
        {
          "output_type": "stream",
          "name": "stdout",
          "text": [
            "-5376.0 8064.0\n"
          ]
        }
      ]
    },
    {
      "cell_type": "code",
      "source": [
        ""
      ],
      "metadata": {
        "id": "7Yk76gF9nGUf"
      },
      "execution_count": null,
      "outputs": []
    }
  ]
}